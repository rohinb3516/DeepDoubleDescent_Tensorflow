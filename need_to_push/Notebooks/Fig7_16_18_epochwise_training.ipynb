{
 "cells": [
  {
   "cell_type": "code",
   "execution_count": 1,
   "metadata": {
    "colab": {
     "base_uri": "https://localhost:8080/"
    },
    "id": "p9B-g-UOS3n3",
    "outputId": "2c34eb15-e0ba-4f9f-a70e-be16ab6ed951"
   },
   "outputs": [
    {
     "name": "stdout",
     "output_type": "stream",
     "text": [
      "Cloning into 'DeepDoubleDescent_Tensorflow'...\n",
      "remote: Enumerating objects: 561, done.\u001b[K\n",
      "remote: Counting objects: 100% (20/20), done.\u001b[K\n",
      "remote: Compressing objects: 100% (12/12), done.\u001b[K\n",
      "remote: Total 561 (delta 8), reused 18 (delta 8), pack-reused 541\u001b[K\n",
      "Receiving objects: 100% (561/561), 309.99 MiB | 28.17 MiB/s, done.\n",
      "Resolving deltas: 100% (262/262), done.\n",
      "Checking out files: 100% (459/459), done.\n"
     ]
    }
   ],
   "source": [
    "!git clone https://github.com/AlwaysSearching/DeepDoubleDescent_Tensorflow"
   ]
  },
  {
   "cell_type": "code",
   "execution_count": 2,
   "metadata": {
    "colab": {
     "base_uri": "https://localhost:8080/"
    },
    "id": "_piEJIj9XZts",
    "outputId": "035a22f8-a0f2-40ae-b276-ad8cba9b0b2b"
   },
   "outputs": [
    {
     "name": "stdout",
     "output_type": "stream",
     "text": [
      "Sun Apr 18 04:44:54 2021       \n",
      "+-----------------------------------------------------------------------------+\n",
      "| NVIDIA-SMI 460.67       Driver Version: 460.32.03    CUDA Version: 11.2     |\n",
      "|-------------------------------+----------------------+----------------------+\n",
      "| GPU  Name        Persistence-M| Bus-Id        Disp.A | Volatile Uncorr. ECC |\n",
      "| Fan  Temp  Perf  Pwr:Usage/Cap|         Memory-Usage | GPU-Util  Compute M. |\n",
      "|                               |                      |               MIG M. |\n",
      "|===============================+======================+======================|\n",
      "|   0  Tesla T4            Off  | 00000000:00:04.0 Off |                    0 |\n",
      "| N/A   44C    P8     9W /  70W |      0MiB / 15109MiB |      0%      Default |\n",
      "|                               |                      |                  N/A |\n",
      "+-------------------------------+----------------------+----------------------+\n",
      "                                                                               \n",
      "+-----------------------------------------------------------------------------+\n",
      "| Processes:                                                                  |\n",
      "|  GPU   GI   CI        PID   Type   Process name                  GPU Memory |\n",
      "|        ID   ID                                                   Usage      |\n",
      "|=============================================================================|\n",
      "|  No running processes found                                                 |\n",
      "+-----------------------------------------------------------------------------+\n"
     ]
    }
   ],
   "source": [
    "!nvidia-smi"
   ]
  },
  {
   "cell_type": "code",
   "execution_count": 4,
   "metadata": {
    "colab": {
     "base_uri": "https://localhost:8080/"
    },
    "id": "yT3eQCirXia1",
    "outputId": "c16aa696-a567-42f3-fb4f-1d5f9a2a609d"
   },
   "outputs": [
    {
     "name": "stdout",
     "output_type": "stream",
     "text": [
      "Executed\n"
     ]
    }
   ],
   "source": [
    "import tensorflow as tf\n",
    "import matplotlib.pyplot as plt\n",
    "import numpy as np\n",
    "import pickle as pkl\n",
    "\n",
    "import os\n",
    "os.chdir(\"DeepDoubleDescent_Tensorflow\")\n",
    "\n",
    "from utils.train_utils import train_resnet18\n",
    "from utils.visualizations import plot_loss_from_file, plot_loss_vs_epoch_from_file, load_results\n",
    "\n",
    "# keeps tensorflow from using all available GPU memory when a model is initialized.\n",
    "gpus = tf.config.list_physical_devices('GPU')\n",
    "tf.config.experimental.set_memory_growth(gpus[0], True)\n",
    "tf.keras.backend.clear_session()\n",
    "\n",
    "print(\"Executed\")"
   ]
  },
  {
   "cell_type": "code",
   "execution_count": null,
   "metadata": {
    "colab": {
     "base_uri": "https://localhost:8080/"
    },
    "id": "ctYke-NrXy8a",
    "outputId": "5bbaac08-2f34-41da-8f69-dfec0dfc5592"
   },
   "outputs": [
    {
     "name": "stdout",
     "output_type": "stream",
     "text": [
      "\n",
      "Training CovNet on CIFAR-100 with 0 Label Noise for 500 epochs - Recreating figure 7\n",
      "\n"
     ]
    }
   ],
   "source": [
    "########### IMPORTANT ####################\n",
    "# This is crashing the colab notebook\n",
    "# Even lost the previous work due to this \n",
    "# Only try running this before saving previous work\n",
    "# Did not try running this in GCP\n",
    "\n",
    "from utils.train_utils import train_conv_nets\n",
    "data_set = 'cifar100'\n",
    "#Assigned: 13-16, 20, 48-56\n",
    "covnet_widths_fig7 = [i for i in range(17)]+[20+(4*i) for i in range(12)]\n",
    "\n",
    "print(\"\\nTraining CovNet on CIFAR-100 with 0 Label Noise for 500 epochs - Recreating figure 7\\n\")\n",
    "\n",
    "label_noise = 0\n",
    "\"\"\"\n",
    "metrics_noise0_rohin = list()\n",
    "metrics_noise0_rohin = train_conv_nets(\n",
    "    data_set=data_set,\n",
    "    resnet_widths=resnet_widths_rohin,\n",
    "    label_noise_as_int=label_noise,\n",
    "    n_epochs=1000\n",
    ")\"\"\"\n",
    "\n",
    "metrics_fig7 = train_conv_nets(\n",
    "    data_set=data_set,\n",
    "    convnet_depth=5,\n",
    "    convnet_widths=covnet_widths_fig7,\n",
    "    label_noise_as_int=0,\n",
    "    n_batch_steps=200_000,\n",
    "    optimizer=None,\n",
    "    save=True,\n",
    "    data_save_path_prefix=\"\",\n",
    "    data_save_path_suffix=\"\",\n",
    "    load_saved_metrics=False\n",
    ")"
   ]
  },
  {
   "cell_type": "code",
   "execution_count": null,
   "metadata": {
    "colab": {
     "base_uri": "https://localhost:8080/"
    },
    "id": "Ii6XitAniQFD",
    "outputId": "921bd26a-9548-479f-cef1-5169e73ef5a9"
   },
   "outputs": [
    {
     "name": "stdout",
     "output_type": "stream",
     "text": [
      "/content/DeepDoubleDescent_Tensorflow\n"
     ]
    }
   ],
   "source": [
    "!pwd\n"
   ]
  },
  {
   "cell_type": "code",
   "execution_count": 27,
   "metadata": {
    "colab": {
     "base_uri": "https://localhost:8080/"
    },
    "id": "1ahYDPhgTTpD",
    "outputId": "3a42b3b3-0402-416c-937f-1dc20a68e4af"
   },
   "outputs": [
    {
     "name": "stdout",
     "output_type": "stream",
     "text": [
      "Executed\n"
     ]
    }
   ],
   "source": [
    "######## IMPORTANT ########\n",
    "\n",
    "# No need to update load_results() in utils/visualizations.py\n",
    "# But would need to update plot_loss_from_file(), implementation is giving errors\n",
    "# Use plot_loss_from_file() to visualise results vs epochs\n",
    "\n",
    "# This means use epoch as a list instead of width in plot_loss_vs_epoch_from_file()\n",
    "# The axis labels will be wrong so might want to change that\n",
    "# Probably would wanna remove the transpose in train_error.T in line 231,\n",
    "# which is- train_im = train_plot.imshow(train_error.T, aspect=\"auto\", origin=\"lower\", norm=norm, interpolation=\"nearest\")\n",
    "\n",
    "from utils.train_utils import load_data, timer\n",
    "from models.resnet import make_resnet18_UniformHe\n",
    "\n",
    "def train_resnet18_epoch(\n",
    "    data_set,\n",
    "    resnet_widths,\n",
    "    label_noise_as_int=10,\n",
    "    n_epochs=None,\n",
    "    n_batch_steps=500_000,\n",
    "    optimizer=None,\n",
    "    save=True,\n",
    "    data_save_path_prefix=\"\",\n",
    "    data_save_path_suffix=\"\",\n",
    "    load_saved_metrics=False\n",
    "):\n",
    "    \"\"\"\n",
    "    Train and save the results of ResNets nets of a given range of model widths.\n",
    "\n",
    "    Parameters\n",
    "    ----------\n",
    "    data_set: str\n",
    "        Which data set to train on. See the load data funciton.\n",
    "    resnet_widths: int\n",
    "        Model width to train.\n",
    "    label_noise_as_int: int\n",
    "        Percentage of label noise to add to the training data.\n",
    "    n_epochs: list[int]\n",
    "        number of epochs to train as a list, if not specified, will calculate with n_batch_steps\n",
    "    n_batch_steps: int\n",
    "        number of gradient descent steps to take, over-ridden if n_epochs is specified\n",
    "    optimizer: tf.keras.optimizer\n",
    "        Optimizer to use while training resnets. Default is Adam with a learning rate of 1e-4.\n",
    "    save: bool\n",
    "        whether to save the data and trained model weights.\n",
    "    data_save_path_prefix: str\n",
    "        prefix to add to the save pkl file path.\n",
    "    data_save_path_suffix: str\n",
    "        suffix to add to the save pkl file name.\n",
    "    load_saved_metrics: bool\n",
    "        if True, will attempt to load the metrics from a previous training session in the save_path,\n",
    "        to continue training from there. If True, will load the saved .pkl file instead of starting\n",
    "        over and overwriting it. \n",
    "    \"\"\"\n",
    "\n",
    "    label_noise = label_noise_as_int / 100\n",
    "\n",
    "    # load the relevent dataset\n",
    "    (x_train, y_train), (x_test, y_test), image_shape = load_data(\n",
    "        data_set, label_noise, augment_data=False\n",
    "    )\n",
    "\n",
    "    batch_size = 128\n",
    "    n_classes = tf.math.reduce_max(y_train).numpy() + 1\n",
    "\n",
    "    \"\"\"\n",
    "    # total number desirec SGD steps / number batches per epoch = n_epochs\n",
    "    if not n_epochs:\n",
    "        n_epochs = n_batch_steps // (x_train.shape[0] // batch_size)\n",
    "\t\"\"\"\n",
    "\n",
    "    # store results for later graphing and analysis.\n",
    "    model_histories = {}\n",
    "    metrics = {}\n",
    "\n",
    "    # Paths to save model weights and experimental results.\n",
    "    model_weights_paths = f\"trained_model_weights_epoch_{data_set}/resnet18_{label_noise_as_int}pct_noise_width_{resnet_widths}/\"\n",
    "    data_save_path = (\n",
    "        f\"experimental_results_epoch_{data_set}/resnet18_{label_noise_as_int}pct_noise_width_{resnet_widths}\" + \".pkl\"\n",
    "    )\n",
    "\n",
    "    # add possible path identifiers.\n",
    "    if data_save_path_prefix:\n",
    "        data_save_path = data_save_path_prefix + \"/\" + data_save_path\n",
    "    if data_save_path_suffix:\n",
    "        assert data_save_path[-4:] == \".pkl\"\n",
    "        data_save_path = data_save_path[:-4] + data_save_path_suffix + \".pkl\"\n",
    "    \n",
    "    # load data from prior runs of related experiment.\n",
    "    if load_saved_metrics:\n",
    "        try:\n",
    "            with open(data_save_path, 'rb') as f:\n",
    "                metrics = pkl.load(f)\n",
    "        except Exception as e:\n",
    "            print('Could not find saved metrics.pkl file, exiting')\n",
    "            raise e\n",
    "\n",
    "        loaded_epochs = [int(i.split('_')[-1]) for i in metrics.keys()]\n",
    "        assert n_epochs[:len(loaded_epochs)] == loaded_epochs\n",
    "        print('loaded results for epoch %s from existing file at %s' %(', '.join([str(i) for i in loaded_epochs]), data_save_path))\n",
    "\n",
    "        assert data_save_path[-4:] == \".pkl\"\n",
    "        data_backup_path = data_save_path[:-4] + 'backup_w%d_' %loaded_epochs[-1] + time.strftime(\"%D_%H%M%S\").replace('/', '') + \".pkl\"\n",
    "        print('saving existing result.pkl to backup at %s' %data_backup_path)\n",
    "        pkl.dump(metrics, open(data_backup_path, \"wb\"))\n",
    "\n",
    "    # Resnet18 with Kaiming Uniform Initialization.\n",
    "    resnet, model_id = make_resnet18_UniformHe(\n",
    "        image_shape, k=resnet_widths, num_classes=n_classes\n",
    "    )\n",
    "\n",
    "    # compile and pass input to initialize parameters.\n",
    "    resnet.compile(\n",
    "        optimizer=tf.keras.optimizers.Adam(1e-4)\n",
    "        if optimizer is None\n",
    "        else optimizer,\n",
    "        loss=tf.keras.losses.SparseCategoricalCrossentropy(from_logits=True),\n",
    "        metrics=[\"accuracy\"],\n",
    "    )\n",
    "\n",
    "    resnet(tf.keras.Input(shape=list(image_shape), batch_size=batch_size))\n",
    "\n",
    "    m_id = model_id\n",
    "\n",
    "    for epoch in n_epochs:\n",
    "        if load_saved_metrics and epoch in loaded_epochs:\n",
    "            print('epoch %d results already loaded from .pkl file, training skipped' %epoch)\n",
    "            continue\n",
    "        \n",
    "        # Different widths were recorded in model_id via make_resnet18_UniformHe().\n",
    "        # Epochs would need to be mentioned in model_id to make sure the dict is accessible by number of epochs, is taken care of here\n",
    "        # Make sure this is done when writing train_covnet_epoch()\n",
    "\n",
    "        model_id = f\"{m_id}_epochs_{epoch}\"\n",
    "\n",
    "        model_timer = timer()\n",
    "\n",
    "        print(f\"STARTING TRAINING: {model_id}, Label Noise: {label_noise}\")\n",
    "        history = resnet.fit(\n",
    "            x=x_train,\n",
    "            y=y_train,\n",
    "            validation_data=(x_test, y_test),\n",
    "            epochs=epoch,\n",
    "            batch_size=batch_size,\n",
    "            verbose=0,\n",
    "            callbacks=[model_timer],\n",
    "        )\n",
    "        print(f\"FINISHED TRAINING: {model_id}\")\n",
    "\n",
    "        # add results to dictionary and store the resulting model weights.\n",
    "        metrics[model_id] = history.history\n",
    "\n",
    "        # clear GPU of prior model to decrease training times.\n",
    "        tf.keras.backend.clear_session()\n",
    "\n",
    "        # Save results to the data file\n",
    "        if save:\n",
    "            pkl.dump(metrics, open(data_save_path, \"wb\"))\n",
    "            history.model.save_weights(model_weights_paths + model_id)\n",
    "\n",
    "    return metrics\n",
    "\n",
    "print(\"Executed\")"
   ]
  },
  {
   "cell_type": "code",
   "execution_count": 60,
   "metadata": {
    "colab": {
     "base_uri": "https://localhost:8080/"
    },
    "id": "OZmz__sKKne5",
    "outputId": "06aac80e-27be-44db-f306-a2f6725ff04f"
   },
   "outputs": [
    {
     "name": "stdout",
     "output_type": "stream",
     "text": [
      "{1, 2, 3, 5, 6, 7, 10, 12, 15, 19, 25, 158, 31, 39, 50, 316, 63, 199, 79, 100, 251, 125}\n",
      "1516\n",
      "Hours to generate graph:  12.633333333333333\n"
     ]
    }
   ],
   "source": [
    "# n is number of points we need to plot to generate the graph\n",
    "n = 10\n",
    "\n",
    "# Assume the x-axis needs ~300 epochs\n",
    "# Needs to be precise till ~200 epochs for a good plot\n",
    "# x-axis is logarithmic\n",
    "\n",
    "#epoch_fig16 = [(i+1)*4 for i in range(50)] +[200+(8*i) for i in range(12)] # Epochs: 8028\n",
    "\n",
    "gap = 10**(1/n)\n",
    "\n",
    "epoch_fig16 = [ int(gap**(i+1)) for i in range(25)]\n",
    "\n",
    "epoch_fig16 = set(epoch_fig16)\n",
    "print(epoch_fig16)\n",
    "#print(set(epoch_fig16))\n",
    "# Total number of epochs\n",
    "print(sum(epoch_fig16))\n",
    "# Each epoch takes half a minute, 25 epochs ~12 minutes\n",
    "print(\"Hours to generate graph: \",(sum(epoch_fig16)*0.5)/60)"
   ]
  },
  {
   "cell_type": "code",
   "execution_count": null,
   "metadata": {
    "colab": {
     "base_uri": "https://localhost:8080/",
     "height": 614
    },
    "id": "pS2SXcTYcOul",
    "outputId": "35d545c3-93ce-42ab-bc4c-5a9f40e1b439"
   },
   "outputs": [
    {
     "name": "stdout",
     "output_type": "stream",
     "text": [
      "\n",
      "Training ResNet on CIFAR-10 with 20 Label Noise with width 32 for 1-300 epochs - Recreating figure 16\n",
      "\n",
      "STARTING TRAINING: ResNet18_width_32, Label Noise: 0.0\n",
      "Epoch: 0000, Total Run Time: 00:00:31 - Loss: 2.0218e+00, Accuracy: 0.346, Test Loss: 5.1091e+00, Test Accuracy: 0.154\n",
      "FINISHED TRAINING: ResNet18_width_32\n",
      "STARTING TRAINING: ResNet18_width_32, Label Noise: 0.0\n",
      "Epoch: 0000, Total Run Time: 00:00:32 - Loss: 2.2085e+00, Accuracy: 0.342, Test Loss: 3.2100e+00, Test Accuracy: 0.148\n",
      "FINISHED TRAINING: ResNet18_width_32\n",
      "STARTING TRAINING: ResNet18_width_32, Label Noise: 0.0\n",
      "Epoch: 0000, Total Run Time: 00:00:33 - Loss: 2.0112e+00, Accuracy: 0.374, Test Loss: 1.8859e+00, Test Accuracy: 0.370\n",
      "FINISHED TRAINING: ResNet18_width_32\n",
      "STARTING TRAINING: ResNet18_width_32, Label Noise: 0.0\n",
      "Epoch: 0000, Total Run Time: 00:00:33 - Loss: 2.1424e+00, Accuracy: 0.327, Test Loss: 4.6552e+00, Test Accuracy: 0.190\n"
     ]
    },
    {
     "ename": "KeyboardInterrupt",
     "evalue": "ignored",
     "output_type": "error",
     "traceback": [
      "\u001b[0;31m---------------------------------------------------------------------------\u001b[0m",
      "\u001b[0;31mKeyboardInterrupt\u001b[0m                         Traceback (most recent call last)",
      "\u001b[0;32m<ipython-input-4-d3a20f3a0c39>\u001b[0m in \u001b[0;36m<module>\u001b[0;34m()\u001b[0m\n\u001b[1;32m     17\u001b[0m     \u001b[0mlabel_noise_as_int\u001b[0m\u001b[0;34m=\u001b[0m\u001b[0mlabel_noise\u001b[0m\u001b[0;34m,\u001b[0m\u001b[0;34m\u001b[0m\u001b[0;34m\u001b[0m\u001b[0m\n\u001b[1;32m     18\u001b[0m     \u001b[0mn_epochs\u001b[0m\u001b[0;34m=\u001b[0m\u001b[0mepoch\u001b[0m\u001b[0;34m,\u001b[0m\u001b[0;34m\u001b[0m\u001b[0;34m\u001b[0m\u001b[0m\n\u001b[0;32m---> 19\u001b[0;31m     \u001b[0moptimizer\u001b[0m\u001b[0;34m=\u001b[0m\u001b[0mtf\u001b[0m\u001b[0;34m.\u001b[0m\u001b[0mkeras\u001b[0m\u001b[0;34m.\u001b[0m\u001b[0moptimizers\u001b[0m\u001b[0;34m.\u001b[0m\u001b[0mAdam\u001b[0m\u001b[0;34m(\u001b[0m\u001b[0;36m1e-4\u001b[0m\u001b[0;34m)\u001b[0m\u001b[0;34m\u001b[0m\u001b[0;34m\u001b[0m\u001b[0m\n\u001b[0m\u001b[1;32m     20\u001b[0m   )\n",
      "\u001b[0;32m/content/DeepDoubleDescent_Tensorflow/utils/train_utils.py\u001b[0m in \u001b[0;36mtrain_resnet18\u001b[0;34m(data_set, resnet_widths, label_noise_as_int, n_epochs, n_batch_steps, optimizer, save, data_save_path_prefix, data_save_path_suffix, load_saved_metrics)\u001b[0m\n\u001b[1;32m    253\u001b[0m             \u001b[0mbatch_size\u001b[0m\u001b[0;34m=\u001b[0m\u001b[0mbatch_size\u001b[0m\u001b[0;34m,\u001b[0m\u001b[0;34m\u001b[0m\u001b[0;34m\u001b[0m\u001b[0m\n\u001b[1;32m    254\u001b[0m             \u001b[0mverbose\u001b[0m\u001b[0;34m=\u001b[0m\u001b[0;36m0\u001b[0m\u001b[0;34m,\u001b[0m\u001b[0;34m\u001b[0m\u001b[0;34m\u001b[0m\u001b[0m\n\u001b[0;32m--> 255\u001b[0;31m             \u001b[0mcallbacks\u001b[0m\u001b[0;34m=\u001b[0m\u001b[0;34m[\u001b[0m\u001b[0mmodel_timer\u001b[0m\u001b[0;34m]\u001b[0m\u001b[0;34m,\u001b[0m\u001b[0;34m\u001b[0m\u001b[0;34m\u001b[0m\u001b[0m\n\u001b[0m\u001b[1;32m    256\u001b[0m         )\n\u001b[1;32m    257\u001b[0m         \u001b[0mprint\u001b[0m\u001b[0;34m(\u001b[0m\u001b[0;34mf\"FINISHED TRAINING: {model_id}\"\u001b[0m\u001b[0;34m)\u001b[0m\u001b[0;34m\u001b[0m\u001b[0;34m\u001b[0m\u001b[0m\n",
      "\u001b[0;32m/usr/local/lib/python3.7/dist-packages/tensorflow/python/keras/engine/training.py\u001b[0m in \u001b[0;36mfit\u001b[0;34m(self, x, y, batch_size, epochs, verbose, callbacks, validation_split, validation_data, shuffle, class_weight, sample_weight, initial_epoch, steps_per_epoch, validation_steps, validation_batch_size, validation_freq, max_queue_size, workers, use_multiprocessing)\u001b[0m\n\u001b[1;32m   1098\u001b[0m                 _r=1):\n\u001b[1;32m   1099\u001b[0m               \u001b[0mcallbacks\u001b[0m\u001b[0;34m.\u001b[0m\u001b[0mon_train_batch_begin\u001b[0m\u001b[0;34m(\u001b[0m\u001b[0mstep\u001b[0m\u001b[0;34m)\u001b[0m\u001b[0;34m\u001b[0m\u001b[0;34m\u001b[0m\u001b[0m\n\u001b[0;32m-> 1100\u001b[0;31m               \u001b[0mtmp_logs\u001b[0m \u001b[0;34m=\u001b[0m \u001b[0mself\u001b[0m\u001b[0;34m.\u001b[0m\u001b[0mtrain_function\u001b[0m\u001b[0;34m(\u001b[0m\u001b[0miterator\u001b[0m\u001b[0;34m)\u001b[0m\u001b[0;34m\u001b[0m\u001b[0;34m\u001b[0m\u001b[0m\n\u001b[0m\u001b[1;32m   1101\u001b[0m               \u001b[0;32mif\u001b[0m \u001b[0mdata_handler\u001b[0m\u001b[0;34m.\u001b[0m\u001b[0mshould_sync\u001b[0m\u001b[0;34m:\u001b[0m\u001b[0;34m\u001b[0m\u001b[0;34m\u001b[0m\u001b[0m\n\u001b[1;32m   1102\u001b[0m                 \u001b[0mcontext\u001b[0m\u001b[0;34m.\u001b[0m\u001b[0masync_wait\u001b[0m\u001b[0;34m(\u001b[0m\u001b[0;34m)\u001b[0m\u001b[0;34m\u001b[0m\u001b[0;34m\u001b[0m\u001b[0m\n",
      "\u001b[0;32m/usr/local/lib/python3.7/dist-packages/tensorflow/python/eager/def_function.py\u001b[0m in \u001b[0;36m__call__\u001b[0;34m(self, *args, **kwds)\u001b[0m\n\u001b[1;32m    826\u001b[0m     \u001b[0mtracing_count\u001b[0m \u001b[0;34m=\u001b[0m \u001b[0mself\u001b[0m\u001b[0;34m.\u001b[0m\u001b[0mexperimental_get_tracing_count\u001b[0m\u001b[0;34m(\u001b[0m\u001b[0;34m)\u001b[0m\u001b[0;34m\u001b[0m\u001b[0;34m\u001b[0m\u001b[0m\n\u001b[1;32m    827\u001b[0m     \u001b[0;32mwith\u001b[0m \u001b[0mtrace\u001b[0m\u001b[0;34m.\u001b[0m\u001b[0mTrace\u001b[0m\u001b[0;34m(\u001b[0m\u001b[0mself\u001b[0m\u001b[0;34m.\u001b[0m\u001b[0m_name\u001b[0m\u001b[0;34m)\u001b[0m \u001b[0;32mas\u001b[0m \u001b[0mtm\u001b[0m\u001b[0;34m:\u001b[0m\u001b[0;34m\u001b[0m\u001b[0;34m\u001b[0m\u001b[0m\n\u001b[0;32m--> 828\u001b[0;31m       \u001b[0mresult\u001b[0m \u001b[0;34m=\u001b[0m \u001b[0mself\u001b[0m\u001b[0;34m.\u001b[0m\u001b[0m_call\u001b[0m\u001b[0;34m(\u001b[0m\u001b[0;34m*\u001b[0m\u001b[0margs\u001b[0m\u001b[0;34m,\u001b[0m \u001b[0;34m**\u001b[0m\u001b[0mkwds\u001b[0m\u001b[0;34m)\u001b[0m\u001b[0;34m\u001b[0m\u001b[0;34m\u001b[0m\u001b[0m\n\u001b[0m\u001b[1;32m    829\u001b[0m       \u001b[0mcompiler\u001b[0m \u001b[0;34m=\u001b[0m \u001b[0;34m\"xla\"\u001b[0m \u001b[0;32mif\u001b[0m \u001b[0mself\u001b[0m\u001b[0;34m.\u001b[0m\u001b[0m_experimental_compile\u001b[0m \u001b[0;32melse\u001b[0m \u001b[0;34m\"nonXla\"\u001b[0m\u001b[0;34m\u001b[0m\u001b[0;34m\u001b[0m\u001b[0m\n\u001b[1;32m    830\u001b[0m       \u001b[0mnew_tracing_count\u001b[0m \u001b[0;34m=\u001b[0m \u001b[0mself\u001b[0m\u001b[0;34m.\u001b[0m\u001b[0mexperimental_get_tracing_count\u001b[0m\u001b[0;34m(\u001b[0m\u001b[0;34m)\u001b[0m\u001b[0;34m\u001b[0m\u001b[0;34m\u001b[0m\u001b[0m\n",
      "\u001b[0;32m/usr/local/lib/python3.7/dist-packages/tensorflow/python/eager/def_function.py\u001b[0m in \u001b[0;36m_call\u001b[0;34m(self, *args, **kwds)\u001b[0m\n\u001b[1;32m    853\u001b[0m       \u001b[0;31m# In this case we have created variables on the first call, so we run the\u001b[0m\u001b[0;34m\u001b[0m\u001b[0;34m\u001b[0m\u001b[0;34m\u001b[0m\u001b[0m\n\u001b[1;32m    854\u001b[0m       \u001b[0;31m# defunned version which is guaranteed to never create variables.\u001b[0m\u001b[0;34m\u001b[0m\u001b[0;34m\u001b[0m\u001b[0;34m\u001b[0m\u001b[0m\n\u001b[0;32m--> 855\u001b[0;31m       \u001b[0;32mreturn\u001b[0m \u001b[0mself\u001b[0m\u001b[0;34m.\u001b[0m\u001b[0m_stateless_fn\u001b[0m\u001b[0;34m(\u001b[0m\u001b[0;34m*\u001b[0m\u001b[0margs\u001b[0m\u001b[0;34m,\u001b[0m \u001b[0;34m**\u001b[0m\u001b[0mkwds\u001b[0m\u001b[0;34m)\u001b[0m  \u001b[0;31m# pylint: disable=not-callable\u001b[0m\u001b[0;34m\u001b[0m\u001b[0;34m\u001b[0m\u001b[0m\n\u001b[0m\u001b[1;32m    856\u001b[0m     \u001b[0;32melif\u001b[0m \u001b[0mself\u001b[0m\u001b[0;34m.\u001b[0m\u001b[0m_stateful_fn\u001b[0m \u001b[0;32mis\u001b[0m \u001b[0;32mnot\u001b[0m \u001b[0;32mNone\u001b[0m\u001b[0;34m:\u001b[0m\u001b[0;34m\u001b[0m\u001b[0;34m\u001b[0m\u001b[0m\n\u001b[1;32m    857\u001b[0m       \u001b[0;31m# Release the lock early so that multiple threads can perform the call\u001b[0m\u001b[0;34m\u001b[0m\u001b[0;34m\u001b[0m\u001b[0;34m\u001b[0m\u001b[0m\n",
      "\u001b[0;32m/usr/local/lib/python3.7/dist-packages/tensorflow/python/eager/function.py\u001b[0m in \u001b[0;36m__call__\u001b[0;34m(self, *args, **kwargs)\u001b[0m\n\u001b[1;32m   2941\u001b[0m        filtered_flat_args) = self._maybe_define_function(args, kwargs)\n\u001b[1;32m   2942\u001b[0m     return graph_function._call_flat(\n\u001b[0;32m-> 2943\u001b[0;31m         filtered_flat_args, captured_inputs=graph_function.captured_inputs)  # pylint: disable=protected-access\n\u001b[0m\u001b[1;32m   2944\u001b[0m \u001b[0;34m\u001b[0m\u001b[0m\n\u001b[1;32m   2945\u001b[0m   \u001b[0;34m@\u001b[0m\u001b[0mproperty\u001b[0m\u001b[0;34m\u001b[0m\u001b[0;34m\u001b[0m\u001b[0m\n",
      "\u001b[0;32m/usr/local/lib/python3.7/dist-packages/tensorflow/python/eager/function.py\u001b[0m in \u001b[0;36m_call_flat\u001b[0;34m(self, args, captured_inputs, cancellation_manager)\u001b[0m\n\u001b[1;32m   1917\u001b[0m       \u001b[0;31m# No tape is watching; skip to running the function.\u001b[0m\u001b[0;34m\u001b[0m\u001b[0;34m\u001b[0m\u001b[0;34m\u001b[0m\u001b[0m\n\u001b[1;32m   1918\u001b[0m       return self._build_call_outputs(self._inference_function.call(\n\u001b[0;32m-> 1919\u001b[0;31m           ctx, args, cancellation_manager=cancellation_manager))\n\u001b[0m\u001b[1;32m   1920\u001b[0m     forward_backward = self._select_forward_and_backward_functions(\n\u001b[1;32m   1921\u001b[0m         \u001b[0margs\u001b[0m\u001b[0;34m,\u001b[0m\u001b[0;34m\u001b[0m\u001b[0;34m\u001b[0m\u001b[0m\n",
      "\u001b[0;32m/usr/local/lib/python3.7/dist-packages/tensorflow/python/eager/function.py\u001b[0m in \u001b[0;36mcall\u001b[0;34m(self, ctx, args, cancellation_manager)\u001b[0m\n\u001b[1;32m    558\u001b[0m               \u001b[0minputs\u001b[0m\u001b[0;34m=\u001b[0m\u001b[0margs\u001b[0m\u001b[0;34m,\u001b[0m\u001b[0;34m\u001b[0m\u001b[0;34m\u001b[0m\u001b[0m\n\u001b[1;32m    559\u001b[0m               \u001b[0mattrs\u001b[0m\u001b[0;34m=\u001b[0m\u001b[0mattrs\u001b[0m\u001b[0;34m,\u001b[0m\u001b[0;34m\u001b[0m\u001b[0;34m\u001b[0m\u001b[0m\n\u001b[0;32m--> 560\u001b[0;31m               ctx=ctx)\n\u001b[0m\u001b[1;32m    561\u001b[0m         \u001b[0;32melse\u001b[0m\u001b[0;34m:\u001b[0m\u001b[0;34m\u001b[0m\u001b[0;34m\u001b[0m\u001b[0m\n\u001b[1;32m    562\u001b[0m           outputs = execute.execute_with_cancellation(\n",
      "\u001b[0;32m/usr/local/lib/python3.7/dist-packages/tensorflow/python/eager/execute.py\u001b[0m in \u001b[0;36mquick_execute\u001b[0;34m(op_name, num_outputs, inputs, attrs, ctx, name)\u001b[0m\n\u001b[1;32m     58\u001b[0m     \u001b[0mctx\u001b[0m\u001b[0;34m.\u001b[0m\u001b[0mensure_initialized\u001b[0m\u001b[0;34m(\u001b[0m\u001b[0;34m)\u001b[0m\u001b[0;34m\u001b[0m\u001b[0;34m\u001b[0m\u001b[0m\n\u001b[1;32m     59\u001b[0m     tensors = pywrap_tfe.TFE_Py_Execute(ctx._handle, device_name, op_name,\n\u001b[0;32m---> 60\u001b[0;31m                                         inputs, attrs, num_outputs)\n\u001b[0m\u001b[1;32m     61\u001b[0m   \u001b[0;32mexcept\u001b[0m \u001b[0mcore\u001b[0m\u001b[0;34m.\u001b[0m\u001b[0m_NotOkStatusException\u001b[0m \u001b[0;32mas\u001b[0m \u001b[0me\u001b[0m\u001b[0;34m:\u001b[0m\u001b[0;34m\u001b[0m\u001b[0;34m\u001b[0m\u001b[0m\n\u001b[1;32m     62\u001b[0m     \u001b[0;32mif\u001b[0m \u001b[0mname\u001b[0m \u001b[0;32mis\u001b[0m \u001b[0;32mnot\u001b[0m \u001b[0;32mNone\u001b[0m\u001b[0;34m:\u001b[0m\u001b[0;34m\u001b[0m\u001b[0;34m\u001b[0m\u001b[0m\n",
      "\u001b[0;31mKeyboardInterrupt\u001b[0m: "
     ]
    }
   ],
   "source": [
    "data_set = 'cifar10'\n",
    "#Assigned: 13-16, 20, 48-56\n",
    "#epoch_fig16 = [i+1 for i in range(200)]+[200+(4*i) for i in range(25)]\n",
    "#epoch_fig16 = [(i+1)*4 for i in range(50)] +[200+(8*i) for i in range(12)]\n",
    "n=10\n",
    "\n",
    "gap = 10**(1/n)\n",
    "\n",
    "epoch_fig16 = [ int(gap**(i+1)) for i in range(25)]\n",
    "\n",
    "epoch_fig16 = set(epoch_fig16)\n",
    "\n",
    "print(\"\\nTraining ResNet on CIFAR-10 with 20 Label Noise with width 32 for 1-300 epochs - Recreating figure 16\\n\")\n",
    "# Doing this without data augmentation\n",
    "\n",
    "label_noise = 0\n",
    "\n",
    "for epoch in epoch_fig16:\n",
    "  \n",
    "  metrics_noise0_rohin = list()\n",
    "  metrics_noise0_rohin = train_resnet18(\n",
    "    data_set=data_set,\n",
    "    resnet_widths=[32],\n",
    "    label_noise_as_int=label_noise,\n",
    "    n_epochs=epoch,\n",
    "    optimizer=tf.keras.optimizers.Adam(1e-4)\n",
    "  )\n"
   ]
  },
  {
   "cell_type": "code",
   "execution_count": null,
   "metadata": {
    "id": "GPuDT65vqKvz"
   },
   "outputs": [],
   "source": [
    "import os\n",
    "os.chdir(\"..\")\n",
    "!mv train_utils.py DeepDoubleDescent_Tensorflow/utils\n",
    "os.chdir(\"DeepDoubleDescent_Tensorflow\")"
   ]
  },
  {
   "cell_type": "markdown",
   "metadata": {
    "id": "dx2-zbGTmYrs"
   },
   "source": [
    "Timer callback isn't working, should be made better"
   ]
  },
  {
   "cell_type": "code",
   "execution_count": 28,
   "metadata": {
    "colab": {
     "base_uri": "https://localhost:8080/",
     "height": 385
    },
    "id": "OZY_KtVXpABi",
    "outputId": "f96ce1c5-4a78-476a-a230-20d051ef500e"
   },
   "outputs": [
    {
     "ename": "KeyboardInterrupt",
     "evalue": "ignored",
     "output_type": "error",
     "traceback": [
      "\u001b[0;31m---------------------------------------------------------------------------\u001b[0m",
      "\u001b[0;31mKeyboardInterrupt\u001b[0m                         Traceback (most recent call last)",
      "\u001b[0;32m<ipython-input-28-8a3b28e22e09>\u001b[0m in \u001b[0;36m<module>\u001b[0;34m()\u001b[0m\n\u001b[1;32m     29\u001b[0m   \u001b[0mlabel_noise_as_int\u001b[0m\u001b[0;34m=\u001b[0m\u001b[0mlabel_noise\u001b[0m\u001b[0;34m,\u001b[0m\u001b[0;34m\u001b[0m\u001b[0;34m\u001b[0m\u001b[0m\n\u001b[1;32m     30\u001b[0m   \u001b[0mn_epochs\u001b[0m\u001b[0;34m=\u001b[0m\u001b[0mepoch_fig16\u001b[0m\u001b[0;34m,\u001b[0m\u001b[0;34m\u001b[0m\u001b[0;34m\u001b[0m\u001b[0m\n\u001b[0;32m---> 31\u001b[0;31m   \u001b[0moptimizer\u001b[0m\u001b[0;34m=\u001b[0m\u001b[0mtf\u001b[0m\u001b[0;34m.\u001b[0m\u001b[0mkeras\u001b[0m\u001b[0;34m.\u001b[0m\u001b[0moptimizers\u001b[0m\u001b[0;34m.\u001b[0m\u001b[0mAdam\u001b[0m\u001b[0;34m(\u001b[0m\u001b[0;36m1e-4\u001b[0m\u001b[0;34m)\u001b[0m\u001b[0;34m\u001b[0m\u001b[0;34m\u001b[0m\u001b[0m\n\u001b[0m\u001b[1;32m     32\u001b[0m )\n",
      "\u001b[0;32m<ipython-input-27-5557f40700cb>\u001b[0m in \u001b[0;36mtrain_resnet18_epoch\u001b[0;34m(data_set, resnet_widths, label_noise_as_int, n_epochs, n_batch_steps, optimizer, save, data_save_path_prefix, data_save_path_suffix, load_saved_metrics)\u001b[0m\n\u001b[1;32m    143\u001b[0m             \u001b[0mbatch_size\u001b[0m\u001b[0;34m=\u001b[0m\u001b[0mbatch_size\u001b[0m\u001b[0;34m,\u001b[0m\u001b[0;34m\u001b[0m\u001b[0;34m\u001b[0m\u001b[0m\n\u001b[1;32m    144\u001b[0m             \u001b[0mverbose\u001b[0m\u001b[0;34m=\u001b[0m\u001b[0;36m0\u001b[0m\u001b[0;34m,\u001b[0m\u001b[0;34m\u001b[0m\u001b[0;34m\u001b[0m\u001b[0m\n\u001b[0;32m--> 145\u001b[0;31m             \u001b[0mcallbacks\u001b[0m\u001b[0;34m=\u001b[0m\u001b[0;34m[\u001b[0m\u001b[0mmodel_timer\u001b[0m\u001b[0;34m]\u001b[0m\u001b[0;34m,\u001b[0m\u001b[0;34m\u001b[0m\u001b[0;34m\u001b[0m\u001b[0m\n\u001b[0m\u001b[1;32m    146\u001b[0m         )\n\u001b[1;32m    147\u001b[0m         \u001b[0mprint\u001b[0m\u001b[0;34m(\u001b[0m\u001b[0;34mf\"FINISHED TRAINING: {model_id}\"\u001b[0m\u001b[0;34m)\u001b[0m\u001b[0;34m\u001b[0m\u001b[0;34m\u001b[0m\u001b[0m\n",
      "\u001b[0;32m/usr/local/lib/python3.7/dist-packages/tensorflow/python/keras/engine/training.py\u001b[0m in \u001b[0;36mfit\u001b[0;34m(self, x, y, batch_size, epochs, verbose, callbacks, validation_split, validation_data, shuffle, class_weight, sample_weight, initial_epoch, steps_per_epoch, validation_steps, validation_batch_size, validation_freq, max_queue_size, workers, use_multiprocessing)\u001b[0m\n\u001b[1;32m   1098\u001b[0m                 _r=1):\n\u001b[1;32m   1099\u001b[0m               \u001b[0mcallbacks\u001b[0m\u001b[0;34m.\u001b[0m\u001b[0mon_train_batch_begin\u001b[0m\u001b[0;34m(\u001b[0m\u001b[0mstep\u001b[0m\u001b[0;34m)\u001b[0m\u001b[0;34m\u001b[0m\u001b[0;34m\u001b[0m\u001b[0m\n\u001b[0;32m-> 1100\u001b[0;31m               \u001b[0mtmp_logs\u001b[0m \u001b[0;34m=\u001b[0m \u001b[0mself\u001b[0m\u001b[0;34m.\u001b[0m\u001b[0mtrain_function\u001b[0m\u001b[0;34m(\u001b[0m\u001b[0miterator\u001b[0m\u001b[0;34m)\u001b[0m\u001b[0;34m\u001b[0m\u001b[0;34m\u001b[0m\u001b[0m\n\u001b[0m\u001b[1;32m   1101\u001b[0m               \u001b[0;32mif\u001b[0m \u001b[0mdata_handler\u001b[0m\u001b[0;34m.\u001b[0m\u001b[0mshould_sync\u001b[0m\u001b[0;34m:\u001b[0m\u001b[0;34m\u001b[0m\u001b[0;34m\u001b[0m\u001b[0m\n\u001b[1;32m   1102\u001b[0m                 \u001b[0mcontext\u001b[0m\u001b[0;34m.\u001b[0m\u001b[0masync_wait\u001b[0m\u001b[0;34m(\u001b[0m\u001b[0;34m)\u001b[0m\u001b[0;34m\u001b[0m\u001b[0;34m\u001b[0m\u001b[0m\n",
      "\u001b[0;32m/usr/local/lib/python3.7/dist-packages/tensorflow/python/eager/def_function.py\u001b[0m in \u001b[0;36m__call__\u001b[0;34m(self, *args, **kwds)\u001b[0m\n\u001b[1;32m    826\u001b[0m     \u001b[0mtracing_count\u001b[0m \u001b[0;34m=\u001b[0m \u001b[0mself\u001b[0m\u001b[0;34m.\u001b[0m\u001b[0mexperimental_get_tracing_count\u001b[0m\u001b[0;34m(\u001b[0m\u001b[0;34m)\u001b[0m\u001b[0;34m\u001b[0m\u001b[0;34m\u001b[0m\u001b[0m\n\u001b[1;32m    827\u001b[0m     \u001b[0;32mwith\u001b[0m \u001b[0mtrace\u001b[0m\u001b[0;34m.\u001b[0m\u001b[0mTrace\u001b[0m\u001b[0;34m(\u001b[0m\u001b[0mself\u001b[0m\u001b[0;34m.\u001b[0m\u001b[0m_name\u001b[0m\u001b[0;34m)\u001b[0m \u001b[0;32mas\u001b[0m \u001b[0mtm\u001b[0m\u001b[0;34m:\u001b[0m\u001b[0;34m\u001b[0m\u001b[0;34m\u001b[0m\u001b[0m\n\u001b[0;32m--> 828\u001b[0;31m       \u001b[0mresult\u001b[0m \u001b[0;34m=\u001b[0m \u001b[0mself\u001b[0m\u001b[0;34m.\u001b[0m\u001b[0m_call\u001b[0m\u001b[0;34m(\u001b[0m\u001b[0;34m*\u001b[0m\u001b[0margs\u001b[0m\u001b[0;34m,\u001b[0m \u001b[0;34m**\u001b[0m\u001b[0mkwds\u001b[0m\u001b[0;34m)\u001b[0m\u001b[0;34m\u001b[0m\u001b[0;34m\u001b[0m\u001b[0m\n\u001b[0m\u001b[1;32m    829\u001b[0m       \u001b[0mcompiler\u001b[0m \u001b[0;34m=\u001b[0m \u001b[0;34m\"xla\"\u001b[0m \u001b[0;32mif\u001b[0m \u001b[0mself\u001b[0m\u001b[0;34m.\u001b[0m\u001b[0m_experimental_compile\u001b[0m \u001b[0;32melse\u001b[0m \u001b[0;34m\"nonXla\"\u001b[0m\u001b[0;34m\u001b[0m\u001b[0;34m\u001b[0m\u001b[0m\n\u001b[1;32m    830\u001b[0m       \u001b[0mnew_tracing_count\u001b[0m \u001b[0;34m=\u001b[0m \u001b[0mself\u001b[0m\u001b[0;34m.\u001b[0m\u001b[0mexperimental_get_tracing_count\u001b[0m\u001b[0;34m(\u001b[0m\u001b[0;34m)\u001b[0m\u001b[0;34m\u001b[0m\u001b[0;34m\u001b[0m\u001b[0m\n",
      "\u001b[0;32m/usr/local/lib/python3.7/dist-packages/tensorflow/python/eager/def_function.py\u001b[0m in \u001b[0;36m_call\u001b[0;34m(self, *args, **kwds)\u001b[0m\n\u001b[1;32m    853\u001b[0m       \u001b[0;31m# In this case we have created variables on the first call, so we run the\u001b[0m\u001b[0;34m\u001b[0m\u001b[0;34m\u001b[0m\u001b[0;34m\u001b[0m\u001b[0m\n\u001b[1;32m    854\u001b[0m       \u001b[0;31m# defunned version which is guaranteed to never create variables.\u001b[0m\u001b[0;34m\u001b[0m\u001b[0;34m\u001b[0m\u001b[0;34m\u001b[0m\u001b[0m\n\u001b[0;32m--> 855\u001b[0;31m       \u001b[0;32mreturn\u001b[0m \u001b[0mself\u001b[0m\u001b[0;34m.\u001b[0m\u001b[0m_stateless_fn\u001b[0m\u001b[0;34m(\u001b[0m\u001b[0;34m*\u001b[0m\u001b[0margs\u001b[0m\u001b[0;34m,\u001b[0m \u001b[0;34m**\u001b[0m\u001b[0mkwds\u001b[0m\u001b[0;34m)\u001b[0m  \u001b[0;31m# pylint: disable=not-callable\u001b[0m\u001b[0;34m\u001b[0m\u001b[0;34m\u001b[0m\u001b[0m\n\u001b[0m\u001b[1;32m    856\u001b[0m     \u001b[0;32melif\u001b[0m \u001b[0mself\u001b[0m\u001b[0;34m.\u001b[0m\u001b[0m_stateful_fn\u001b[0m \u001b[0;32mis\u001b[0m \u001b[0;32mnot\u001b[0m \u001b[0;32mNone\u001b[0m\u001b[0;34m:\u001b[0m\u001b[0;34m\u001b[0m\u001b[0;34m\u001b[0m\u001b[0m\n\u001b[1;32m    857\u001b[0m       \u001b[0;31m# Release the lock early so that multiple threads can perform the call\u001b[0m\u001b[0;34m\u001b[0m\u001b[0;34m\u001b[0m\u001b[0;34m\u001b[0m\u001b[0m\n",
      "\u001b[0;32m/usr/local/lib/python3.7/dist-packages/tensorflow/python/eager/function.py\u001b[0m in \u001b[0;36m__call__\u001b[0;34m(self, *args, **kwargs)\u001b[0m\n\u001b[1;32m   2941\u001b[0m        filtered_flat_args) = self._maybe_define_function(args, kwargs)\n\u001b[1;32m   2942\u001b[0m     return graph_function._call_flat(\n\u001b[0;32m-> 2943\u001b[0;31m         filtered_flat_args, captured_inputs=graph_function.captured_inputs)  # pylint: disable=protected-access\n\u001b[0m\u001b[1;32m   2944\u001b[0m \u001b[0;34m\u001b[0m\u001b[0m\n\u001b[1;32m   2945\u001b[0m   \u001b[0;34m@\u001b[0m\u001b[0mproperty\u001b[0m\u001b[0;34m\u001b[0m\u001b[0;34m\u001b[0m\u001b[0m\n",
      "\u001b[0;32m/usr/local/lib/python3.7/dist-packages/tensorflow/python/eager/function.py\u001b[0m in \u001b[0;36m_call_flat\u001b[0;34m(self, args, captured_inputs, cancellation_manager)\u001b[0m\n\u001b[1;32m   1917\u001b[0m       \u001b[0;31m# No tape is watching; skip to running the function.\u001b[0m\u001b[0;34m\u001b[0m\u001b[0;34m\u001b[0m\u001b[0;34m\u001b[0m\u001b[0m\n\u001b[1;32m   1918\u001b[0m       return self._build_call_outputs(self._inference_function.call(\n\u001b[0;32m-> 1919\u001b[0;31m           ctx, args, cancellation_manager=cancellation_manager))\n\u001b[0m\u001b[1;32m   1920\u001b[0m     forward_backward = self._select_forward_and_backward_functions(\n\u001b[1;32m   1921\u001b[0m         \u001b[0margs\u001b[0m\u001b[0;34m,\u001b[0m\u001b[0;34m\u001b[0m\u001b[0;34m\u001b[0m\u001b[0m\n",
      "\u001b[0;32m/usr/local/lib/python3.7/dist-packages/tensorflow/python/eager/function.py\u001b[0m in \u001b[0;36mcall\u001b[0;34m(self, ctx, args, cancellation_manager)\u001b[0m\n\u001b[1;32m    558\u001b[0m               \u001b[0minputs\u001b[0m\u001b[0;34m=\u001b[0m\u001b[0margs\u001b[0m\u001b[0;34m,\u001b[0m\u001b[0;34m\u001b[0m\u001b[0;34m\u001b[0m\u001b[0m\n\u001b[1;32m    559\u001b[0m               \u001b[0mattrs\u001b[0m\u001b[0;34m=\u001b[0m\u001b[0mattrs\u001b[0m\u001b[0;34m,\u001b[0m\u001b[0;34m\u001b[0m\u001b[0;34m\u001b[0m\u001b[0m\n\u001b[0;32m--> 560\u001b[0;31m               ctx=ctx)\n\u001b[0m\u001b[1;32m    561\u001b[0m         \u001b[0;32melse\u001b[0m\u001b[0;34m:\u001b[0m\u001b[0;34m\u001b[0m\u001b[0;34m\u001b[0m\u001b[0m\n\u001b[1;32m    562\u001b[0m           outputs = execute.execute_with_cancellation(\n",
      "\u001b[0;32m/usr/local/lib/python3.7/dist-packages/tensorflow/python/eager/execute.py\u001b[0m in \u001b[0;36mquick_execute\u001b[0;34m(op_name, num_outputs, inputs, attrs, ctx, name)\u001b[0m\n\u001b[1;32m     58\u001b[0m     \u001b[0mctx\u001b[0m\u001b[0;34m.\u001b[0m\u001b[0mensure_initialized\u001b[0m\u001b[0;34m(\u001b[0m\u001b[0;34m)\u001b[0m\u001b[0;34m\u001b[0m\u001b[0;34m\u001b[0m\u001b[0m\n\u001b[1;32m     59\u001b[0m     tensors = pywrap_tfe.TFE_Py_Execute(ctx._handle, device_name, op_name,\n\u001b[0;32m---> 60\u001b[0;31m                                         inputs, attrs, num_outputs)\n\u001b[0m\u001b[1;32m     61\u001b[0m   \u001b[0;32mexcept\u001b[0m \u001b[0mcore\u001b[0m\u001b[0;34m.\u001b[0m\u001b[0m_NotOkStatusException\u001b[0m \u001b[0;32mas\u001b[0m \u001b[0me\u001b[0m\u001b[0;34m:\u001b[0m\u001b[0;34m\u001b[0m\u001b[0;34m\u001b[0m\u001b[0m\n\u001b[1;32m     62\u001b[0m     \u001b[0;32mif\u001b[0m \u001b[0mname\u001b[0m \u001b[0;32mis\u001b[0m \u001b[0;32mnot\u001b[0m \u001b[0;32mNone\u001b[0m\u001b[0;34m:\u001b[0m\u001b[0;34m\u001b[0m\u001b[0;34m\u001b[0m\u001b[0m\n",
      "\u001b[0;31mKeyboardInterrupt\u001b[0m: "
     ]
    }
   ],
   "source": [
    "import utils\n",
    "#print(dir(utils.train_utils))\n",
    "%load_ext autoreload\n",
    "%reload_ext autoreload\n",
    "\n",
    "import importlib\n",
    "importlib.import_module(\"utils.train_utils\")\n",
    "\n",
    "#from utils.train_utils import train_resnet18_epoch\n",
    "data_set = 'cifar10'\n",
    "#Assigned: 13-16, 20, 48-56\n",
    "#epoch_fig16 = [i+1 for i in range(200)]+[200+(4*i) for i in range(25)]\n",
    "\n",
    "\"\"\"\n",
    "# Estimated time for running: 44 hrs\n",
    "epoch_fig16 = [(i+1)*4 for i in range(50)] +[200+(8*i) for i in range(12)] # Current estimate ~8028 epochs\n",
    "\"\"\"\n",
    "\n",
    "n=10\n",
    "\n",
    "gap = 10**(1/n)\n",
    "\n",
    "epoch_fig16 = [ int(gap**(i+1)) for i in range(25)]\n",
    "\n",
    "epoch_fig16 = set(epoch_fig16)\n",
    "\n",
    "print(\"\\nTraining ResNet on CIFAR-10 with 20 Label Noise with width 32 for 1-300 epochs - Recreating figure 16\\n\")\n",
    "# Doing this without data augmentation\n",
    "\n",
    "label_noise = 0\n",
    "  \n",
    "metrics_noise0_rohin = list()\n",
    "metrics_noise0_rohin = train_resnet18_epoch(\n",
    "  data_set=data_set,\n",
    "  resnet_widths=32,\n",
    "  label_noise_as_int=label_noise,\n",
    "  n_epochs=epoch_fig16,\n",
    "  optimizer=tf.keras.optimizers.Adam(1e-4)\n",
    ")"
   ]
  },
  {
   "cell_type": "code",
   "execution_count": 22,
   "metadata": {
    "colab": {
     "base_uri": "https://localhost:8080/"
    },
    "id": "lHtB76HvZ7gi",
    "outputId": "721a4068-3a53-4453-e5b4-2af6d48f951a"
   },
   "outputs": [
    {
     "name": "stdout",
     "output_type": "stream",
     "text": [
      "1\n",
      "{'loss': [0.6852884292602539, 0.6756851077079773, 0.5962361693382263, 0.6272801160812378, 0.5792248845100403, 0.44380801916122437, 0.4084590673446655, 0.3449031114578247, 0.7192893028259277, 0.3113483488559723, 0.2922412157058716, 0.3441198468208313], 'accuracy': [0.7637400031089783, 0.7697799801826477, 0.793179988861084, 0.7965999841690063, 0.8085799813270569, 0.8486400246620178, 0.8596600294113159, 0.8805000185966492, 0.8135799765586853, 0.8949800133705139, 0.904699981212616, 0.8934800028800964], 'val_loss': [5.388895034790039, 2.888650894165039, 1.2670987844467163, 2.710080862045288, 2.406886577606201, 3.8777894973754883, 2.7102694511413574, 1.3832056522369385, 1.9802799224853516, 3.9091312885284424, 2.6442079544067383, 3.713196039199829], 'val_accuracy': [0.3813000023365021, 0.4472000002861023, 0.6320000290870667, 0.44769999384880066, 0.5260999798774719, 0.3659000098705292, 0.5314000248908997, 0.6680999994277954, 0.6406000256538391, 0.4575999975204468, 0.5440999865531921, 0.4291999936103821]}\n",
      "dict_items([('loss', [0.6852884292602539, 0.6756851077079773, 0.5962361693382263, 0.6272801160812378, 0.5792248845100403, 0.44380801916122437, 0.4084590673446655, 0.3449031114578247, 0.7192893028259277, 0.3113483488559723, 0.2922412157058716, 0.3441198468208313]), ('accuracy', [0.7637400031089783, 0.7697799801826477, 0.793179988861084, 0.7965999841690063, 0.8085799813270569, 0.8486400246620178, 0.8596600294113159, 0.8805000185966492, 0.8135799765586853, 0.8949800133705139, 0.904699981212616, 0.8934800028800964]), ('val_loss', [5.388895034790039, 2.888650894165039, 1.2670987844467163, 2.710080862045288, 2.406886577606201, 3.8777894973754883, 2.7102694511413574, 1.3832056522369385, 1.9802799224853516, 3.9091312885284424, 2.6442079544067383, 3.713196039199829]), ('val_accuracy', [0.3813000023365021, 0.4472000002861023, 0.6320000290870667, 0.44769999384880066, 0.5260999798774719, 0.3659000098705292, 0.5314000248908997, 0.6680999994277954, 0.6406000256538391, 0.4575999975204468, 0.5440999865531921, 0.4291999936103821])])\n",
      "4\n"
     ]
    }
   ],
   "source": [
    "with open(\"experimental_results_epoch_cifar10/resnet18_0pct_noise_width_32.pkl\", 'rb') as f:\n",
    "  metrics_loaded = pkl.load(f)\n",
    "print(len(metrics_loaded.items()))\n",
    "print(metrics_loaded['ResNet18_width_32'])\n",
    "print(metrics_loaded['ResNet18_width_32'].items())\n",
    "print(len(metrics_loaded['ResNet18_width_32'].items()))"
   ]
  },
  {
   "cell_type": "code",
   "execution_count": null,
   "metadata": {
    "id": "hRwubN4gbzXk"
   },
   "outputs": [],
   "source": [
    "f=open(\"experimental_results_epoch_cifar10/resnet18_0pct_noise_width_32.pkl\", 'rb')\n",
    "metrics_loaded = pkl.load(f)"
   ]
  },
  {
   "cell_type": "code",
   "execution_count": 30,
   "metadata": {
    "colab": {
     "base_uri": "https://localhost:8080/"
    },
    "id": "_APQYQPv338c",
    "outputId": "48e049d6-2852-4b79-c3e0-8e8a926918e6"
   },
   "outputs": [
    {
     "name": "stdout",
     "output_type": "stream",
     "text": [
      "/content/DeepDoubleDescent_Tensorflow\n",
      "  adding: trained_model_weights_epoch_cifar10/ (stored 0%)\n",
      "  adding: trained_model_weights_epoch_cifar10/resnet18_0pct_noise_width_32/ (stored 0%)\n",
      "  adding: trained_model_weights_epoch_cifar10/resnet18_0pct_noise_width_32/ResNet18_width_32.data-00000-of-00001 (deflated 9%)\n",
      "  adding: trained_model_weights_epoch_cifar10/resnet18_0pct_noise_width_32/ResNet18_width_32_epochs_36.index (deflated 79%)\n",
      "  adding: trained_model_weights_epoch_cifar10/resnet18_0pct_noise_width_32/ResNet18_width_32_epochs_24.data-00000-of-00001 (deflated 9%)\n",
      "  adding: trained_model_weights_epoch_cifar10/resnet18_0pct_noise_width_32/ResNet18_width_32_epochs_32.data-00000-of-00001 (deflated 9%)\n",
      "  adding: trained_model_weights_epoch_cifar10/resnet18_0pct_noise_width_32/ResNet18_width_32_epochs_12.data-00000-of-00001 (deflated 9%)\n",
      "  adding: trained_model_weights_epoch_cifar10/resnet18_0pct_noise_width_32/ResNet18_width_32.index (deflated 79%)\n",
      "  adding: trained_model_weights_epoch_cifar10/resnet18_0pct_noise_width_32/ResNet18_width_32_epochs_20.index (deflated 79%)\n",
      "  adding: trained_model_weights_epoch_cifar10/resnet18_0pct_noise_width_32/ResNet18_width_32_epochs_28.index (deflated 79%)\n",
      "  adding: trained_model_weights_epoch_cifar10/resnet18_0pct_noise_width_32/ResNet18_width_32_epochs_12.index (deflated 79%)\n",
      "  adding: trained_model_weights_epoch_cifar10/resnet18_0pct_noise_width_32/ResNet18_width_32_epochs_16.data-00000-of-00001 (deflated 9%)\n",
      "  adding: trained_model_weights_epoch_cifar10/resnet18_0pct_noise_width_32/checkpoint (deflated 41%)\n",
      "  adding: trained_model_weights_epoch_cifar10/resnet18_0pct_noise_width_32/ResNet18_width_32_epochs_28.data-00000-of-00001 (deflated 9%)\n",
      "  adding: trained_model_weights_epoch_cifar10/resnet18_0pct_noise_width_32/ResNet18_width_32_epochs_32.index (deflated 79%)\n",
      "  adding: trained_model_weights_epoch_cifar10/resnet18_0pct_noise_width_32/ResNet18_width_32_epochs_4.index (deflated 79%)\n",
      "  adding: trained_model_weights_epoch_cifar10/resnet18_0pct_noise_width_32/ResNet18_width_32_epochs_16.index (deflated 79%)\n",
      "  adding: trained_model_weights_epoch_cifar10/resnet18_0pct_noise_width_32/ResNet18_width_32_epochs_36.data-00000-of-00001 (deflated 9%)\n",
      "  adding: trained_model_weights_epoch_cifar10/resnet18_0pct_noise_width_32/ResNet18_width_32_epochs_20.data-00000-of-00001 (deflated 9%)\n",
      "  adding: trained_model_weights_epoch_cifar10/resnet18_0pct_noise_width_32/ResNet18_width_32_epochs_24.index (deflated 79%)\n",
      "  adding: trained_model_weights_epoch_cifar10/resnet18_0pct_noise_width_32/ResNet18_width_32_epochs_4.data-00000-of-00001 (deflated 8%)\n",
      "  adding: trained_model_weights_epoch_cifar10/resnet18_0pct_noise_width_32/ResNet18_width_32_epochs_8.index (deflated 79%)\n",
      "  adding: trained_model_weights_epoch_cifar10/resnet18_0pct_noise_width_32/ResNet18_width_32_epochs_8.data-00000-of-00001 (deflated 9%)\n"
     ]
    }
   ],
   "source": [
    "!pwd\n",
    "!zip -r ./fig16_epoch_4-36.zip ./trained_model_weights_epoch_cifar10/"
   ]
  },
  {
   "cell_type": "code",
   "execution_count": 32,
   "metadata": {
    "colab": {
     "base_uri": "https://localhost:8080/",
     "height": 469
    },
    "id": "aNt6M3Jt4i0R",
    "outputId": "eebc5ad1-8196-4435-bf88-f405d61e2bd6"
   },
   "outputs": [
    {
     "name": "stderr",
     "output_type": "stream",
     "text": [
      "/content/DeepDoubleDescent_Tensorflow/utils/visualizations.py:43: VisibleDeprecationWarning: Creating an ndarray from ragged nested sequences (which is a list-or-tuple of lists-or-tuples-or ndarrays with different lengths or shapes) is deprecated. If you meant to do this, you must specify 'dtype=object' when creating the ndarray\n",
      "  train_losses = np.array(train_losses)\n",
      "/content/DeepDoubleDescent_Tensorflow/utils/visualizations.py:44: VisibleDeprecationWarning: Creating an ndarray from ragged nested sequences (which is a list-or-tuple of lists-or-tuples-or ndarrays with different lengths or shapes) is deprecated. If you meant to do this, you must specify 'dtype=object' when creating the ndarray\n",
      "  train_accuracy = np.array(train_accuracy)\n",
      "/content/DeepDoubleDescent_Tensorflow/utils/visualizations.py:45: VisibleDeprecationWarning: Creating an ndarray from ragged nested sequences (which is a list-or-tuple of lists-or-tuples-or ndarrays with different lengths or shapes) is deprecated. If you meant to do this, you must specify 'dtype=object' when creating the ndarray\n",
      "  test_losses = np.array(test_losses)\n",
      "/content/DeepDoubleDescent_Tensorflow/utils/visualizations.py:46: VisibleDeprecationWarning: Creating an ndarray from ragged nested sequences (which is a list-or-tuple of lists-or-tuples-or ndarrays with different lengths or shapes) is deprecated. If you meant to do this, you must specify 'dtype=object' when creating the ndarray\n",
      "  test_accuracy = np.array(test_accuracy)\n"
     ]
    },
    {
     "ename": "AxisError",
     "evalue": "ignored",
     "output_type": "error",
     "traceback": [
      "\u001b[0;31m---------------------------------------------------------------------------\u001b[0m",
      "\u001b[0;31mAxisError\u001b[0m                                 Traceback (most recent call last)",
      "\u001b[0;32m<ipython-input-32-f4fd686b9b19>\u001b[0m in \u001b[0;36m<module>\u001b[0;34m()\u001b[0m\n\u001b[0;32m----> 1\u001b[0;31m \u001b[0mplot_loss_from_file\u001b[0m\u001b[0;34m(\u001b[0m\u001b[0;34m\"experimental_results_epoch_cifar10/resnet18_0pct_noise_width_32.pkl\"\u001b[0m\u001b[0;34m)\u001b[0m\u001b[0;34m\u001b[0m\u001b[0;34m\u001b[0m\u001b[0m\n\u001b[0m",
      "\u001b[0;32m/content/DeepDoubleDescent_Tensorflow/utils/visualizations.py\u001b[0m in \u001b[0;36mplot_loss_from_file\u001b[0;34m(path)\u001b[0m\n\u001b[1;32m     83\u001b[0m \u001b[0;34m\u001b[0m\u001b[0m\n\u001b[1;32m     84\u001b[0m     \u001b[0;31m# optimal early stopping values\u001b[0m\u001b[0;34m\u001b[0m\u001b[0;34m\u001b[0m\u001b[0;34m\u001b[0m\u001b[0m\n\u001b[0;32m---> 85\u001b[0;31m     \u001b[0moptimal_test_idx\u001b[0m \u001b[0;34m=\u001b[0m \u001b[0mtest_accuracy\u001b[0m\u001b[0;34m.\u001b[0m\u001b[0margmax\u001b[0m\u001b[0;34m(\u001b[0m\u001b[0maxis\u001b[0m\u001b[0;34m=\u001b[0m\u001b[0;36m1\u001b[0m\u001b[0;34m)\u001b[0m\u001b[0;34m\u001b[0m\u001b[0;34m\u001b[0m\u001b[0m\n\u001b[0m\u001b[1;32m     86\u001b[0m     optimal_early_train_losses = np.array(\n\u001b[1;32m     87\u001b[0m         \u001b[0;34m[\u001b[0m\u001b[0mtrain_losses\u001b[0m\u001b[0;34m[\u001b[0m\u001b[0mi\u001b[0m\u001b[0;34m,\u001b[0m \u001b[0midx\u001b[0m\u001b[0;34m]\u001b[0m \u001b[0;32mfor\u001b[0m \u001b[0mi\u001b[0m\u001b[0;34m,\u001b[0m \u001b[0midx\u001b[0m \u001b[0;32min\u001b[0m \u001b[0menumerate\u001b[0m\u001b[0;34m(\u001b[0m\u001b[0moptimal_test_idx\u001b[0m\u001b[0;34m)\u001b[0m\u001b[0;34m]\u001b[0m\u001b[0;34m\u001b[0m\u001b[0;34m\u001b[0m\u001b[0m\n",
      "\u001b[0;31mAxisError\u001b[0m: axis 1 is out of bounds for array of dimension 1"
     ]
    }
   ],
   "source": [
    "plot_loss_from_file(\"experimental_results_epoch_cifar10/resnet18_0pct_noise_width_32.pkl\")"
   ]
  },
  {
   "cell_type": "code",
   "execution_count": 36,
   "metadata": {
    "colab": {
     "base_uri": "https://localhost:8080/"
    },
    "id": "RvW6Fv5k7nc0",
    "outputId": "8c5653ab-e539-4f79-fdca-1e87bdfadda0"
   },
   "outputs": [
    {
     "name": "stdout",
     "output_type": "stream",
     "text": [
      "Executed\n"
     ]
    }
   ],
   "source": [
    "import matplotlib.pyplot as plt\n",
    "import matplotlib.colors as colors\n",
    "import matplotlib as mpl\n",
    "import matplotlib\n",
    "\n",
    "import numpy as np\n",
    "import pickle as pkl\n",
    "\n",
    "from utils.visualizations import load_results\n",
    "\n",
    "def plot_loss_from_file_epoch(path):\n",
    "    \"\"\"\n",
    "    Function to plot the results from previous runs stored in the experimental_results folder.\n",
    "\n",
    "    The path should point to a pickled dictionary with the following structure:\n",
    "    {\n",
    "        'model_id'{\n",
    "            'loss': list,\n",
    "            'accuracy': list,\n",
    "            'val_loss': list,\n",
    "            'val_accuracy': list,\n",
    "            ...\n",
    "        }\n",
    "    }\n",
    "\n",
    "    This is a dictionary where the key is the model id generated by the _get() function for the desired model, and\n",
    "    the items being the history returned by calling model.fit().\n",
    "    \"\"\"\n",
    "\n",
    "    results = load_results(path)\n",
    "\n",
    "    widths = results.get(\"widths\")\n",
    "    train_losses = results.get(\"loss\")\n",
    "    train_accuracy = results.get(\"accuracy\")\n",
    "    test_losses = results.get(\"val_loss\")\n",
    "    test_accuracy = results.get(\"val_accuracy\")\n",
    "\n",
    "    # optimal early stopping values\n",
    "    optimal_test_idx = test_accuracy.argmax(axis=0)\n",
    "    optimal_early_train_losses = np.array(\n",
    "        [train_losses[i, idx] for i, idx in enumerate(optimal_test_idx)]\n",
    "    )\n",
    "    optimal_early_train_accuracy = np.array(\n",
    "        [train_accuracy[i, idx] for i, idx in enumerate(optimal_test_idx)]\n",
    "    )\n",
    "    optimal_early_test_losses = np.array(\n",
    "        [test_losses[i, idx] for i, idx in enumerate(optimal_test_idx)]\n",
    "    )\n",
    "    optimal_early_test_accuracy = np.array(\n",
    "        [test_accuracy[i, idx] for i, idx in enumerate(optimal_test_idx)]\n",
    "    )\n",
    "\n",
    "    fig, axes = plt.subplots(nrows=2, ncols=2, figsize=(18, 12))\n",
    "\n",
    "    train_loss_plt = axes[0][0]\n",
    "    test_loss_plt = axes[0][1]\n",
    "    train_accy_plt = axes[1][0]\n",
    "    test_accy_plt = axes[1][1]\n",
    "\n",
    "    mrkr_size = 2\n",
    "\n",
    "    # plot final and optimal early stopping train loss\n",
    "    train_loss_plt.plot(\n",
    "        widths,\n",
    "        train_losses[:, -1],\n",
    "        marker=\"o\",\n",
    "        markersize=mrkr_size,\n",
    "        label=\"Final Train Loss\",\n",
    "    )\n",
    "    train_loss_plt.plot(\n",
    "        widths,\n",
    "        optimal_early_train_losses,\n",
    "        marker=\"o\",\n",
    "        markersize=mrkr_size,\n",
    "        label=\"Optimal Early Stopping Train Loss\",\n",
    "    )\n",
    "    train_loss_plt.set_ylabel(\"Train Loss\", fontsize=16)\n",
    "\n",
    "    # plot final and optimal early stopping test loss\n",
    "    test_loss_plt.plot(\n",
    "        widths,\n",
    "        test_losses[:, -1],\n",
    "        marker=\"o\",\n",
    "        markersize=mrkr_size,\n",
    "        label=\"Final Test Loss\",\n",
    "    )\n",
    "    test_loss_plt.plot(\n",
    "        widths,\n",
    "        optimal_early_test_losses,\n",
    "        marker=\"o\",\n",
    "        markersize=mrkr_size,\n",
    "        label=\"Optimal Early Stopping Test Loss\",\n",
    "    )\n",
    "    test_loss_plt.set_ylabel(\"Test Loss\", fontsize=16)\n",
    "\n",
    "    # plot final and optimal early stopping train error\n",
    "    train_accy_plt.plot(\n",
    "        widths,\n",
    "        100 * (1 - train_accuracy[:, -1]),\n",
    "        marker=\"o\",\n",
    "        markersize=mrkr_size,\n",
    "        label=\"Final Train Error\",\n",
    "    )\n",
    "    train_accy_plt.plot(\n",
    "        widths,\n",
    "        100 * (1 - optimal_early_train_accuracy),\n",
    "        marker=\"o\",\n",
    "        markersize=mrkr_size,\n",
    "        label=\"Optimal Early Stopping Train Accuracy\",\n",
    "    )\n",
    "    train_accy_plt.set_ylabel(\"Train Error\", fontsize=16)\n",
    "\n",
    "    # plot final and optimal early stopping test error\n",
    "    test_accy_plt.plot(\n",
    "        widths,\n",
    "        100 * (1 - test_accuracy[:, -1]),\n",
    "        marker=\"o\",\n",
    "        markersize=mrkr_size,\n",
    "        label=\"Final Test Error\",\n",
    "    )\n",
    "    test_accy_plt.plot(\n",
    "        widths,\n",
    "        100 * (1 - optimal_early_test_accuracy),\n",
    "        marker=\"o\",\n",
    "        markersize=mrkr_size,\n",
    "        label=\"Optimal Early Stopping Test Error\",\n",
    "    )\n",
    "    test_accy_plt.set_ylabel(\"Test Error\", fontsize=16)\n",
    "\n",
    "    for ax in axes.flatten():\n",
    "        ax.set_xlabel(\"Epochs\", fontsize=16)\n",
    "        ax.legend(fontsize=14)\n",
    "        ax.grid(alpha=0.5)\n",
    "\n",
    "    fig.tight_layout(pad=1.15, h_pad=2)\n",
    "    plt.show()\n",
    "\n",
    "print(\"Executed\")"
   ]
  },
  {
   "cell_type": "code",
   "execution_count": 37,
   "metadata": {
    "colab": {
     "base_uri": "https://localhost:8080/",
     "height": 451
    },
    "id": "-RJlA5sV7pYr",
    "outputId": "91913137-7d39-4fa8-c702-af01ebc249a0"
   },
   "outputs": [
    {
     "name": "stderr",
     "output_type": "stream",
     "text": [
      "/content/DeepDoubleDescent_Tensorflow/utils/visualizations.py:43: VisibleDeprecationWarning: Creating an ndarray from ragged nested sequences (which is a list-or-tuple of lists-or-tuples-or ndarrays with different lengths or shapes) is deprecated. If you meant to do this, you must specify 'dtype=object' when creating the ndarray\n",
      "  train_losses = np.array(train_losses)\n",
      "/content/DeepDoubleDescent_Tensorflow/utils/visualizations.py:44: VisibleDeprecationWarning: Creating an ndarray from ragged nested sequences (which is a list-or-tuple of lists-or-tuples-or ndarrays with different lengths or shapes) is deprecated. If you meant to do this, you must specify 'dtype=object' when creating the ndarray\n",
      "  train_accuracy = np.array(train_accuracy)\n",
      "/content/DeepDoubleDescent_Tensorflow/utils/visualizations.py:45: VisibleDeprecationWarning: Creating an ndarray from ragged nested sequences (which is a list-or-tuple of lists-or-tuples-or ndarrays with different lengths or shapes) is deprecated. If you meant to do this, you must specify 'dtype=object' when creating the ndarray\n",
      "  test_losses = np.array(test_losses)\n",
      "/content/DeepDoubleDescent_Tensorflow/utils/visualizations.py:46: VisibleDeprecationWarning: Creating an ndarray from ragged nested sequences (which is a list-or-tuple of lists-or-tuples-or ndarrays with different lengths or shapes) is deprecated. If you meant to do this, you must specify 'dtype=object' when creating the ndarray\n",
      "  test_accuracy = np.array(test_accuracy)\n"
     ]
    },
    {
     "ename": "TypeError",
     "evalue": "ignored",
     "output_type": "error",
     "traceback": [
      "\u001b[0;31m---------------------------------------------------------------------------\u001b[0m",
      "\u001b[0;31mTypeError\u001b[0m                                 Traceback (most recent call last)",
      "\u001b[0;32m<ipython-input-37-4a6268efe086>\u001b[0m in \u001b[0;36m<module>\u001b[0;34m()\u001b[0m\n\u001b[0;32m----> 1\u001b[0;31m \u001b[0mplot_loss_from_file_epoch\u001b[0m\u001b[0;34m(\u001b[0m\u001b[0;34m\"experimental_results_epoch_cifar10/resnet18_0pct_noise_width_32.pkl\"\u001b[0m\u001b[0;34m)\u001b[0m\u001b[0;34m\u001b[0m\u001b[0;34m\u001b[0m\u001b[0m\n\u001b[0m",
      "\u001b[0;32m<ipython-input-36-52dc699191fc>\u001b[0m in \u001b[0;36mplot_loss_from_file_epoch\u001b[0;34m(path)\u001b[0m\n\u001b[1;32m     39\u001b[0m     \u001b[0moptimal_test_idx\u001b[0m \u001b[0;34m=\u001b[0m \u001b[0mtest_accuracy\u001b[0m\u001b[0;34m.\u001b[0m\u001b[0margmax\u001b[0m\u001b[0;34m(\u001b[0m\u001b[0maxis\u001b[0m\u001b[0;34m=\u001b[0m\u001b[0;36m0\u001b[0m\u001b[0;34m)\u001b[0m\u001b[0;34m\u001b[0m\u001b[0;34m\u001b[0m\u001b[0m\n\u001b[1;32m     40\u001b[0m     optimal_early_train_losses = np.array(\n\u001b[0;32m---> 41\u001b[0;31m         \u001b[0;34m[\u001b[0m\u001b[0mtrain_losses\u001b[0m\u001b[0;34m[\u001b[0m\u001b[0mi\u001b[0m\u001b[0;34m,\u001b[0m \u001b[0midx\u001b[0m\u001b[0;34m]\u001b[0m \u001b[0;32mfor\u001b[0m \u001b[0mi\u001b[0m\u001b[0;34m,\u001b[0m \u001b[0midx\u001b[0m \u001b[0;32min\u001b[0m \u001b[0menumerate\u001b[0m\u001b[0;34m(\u001b[0m\u001b[0moptimal_test_idx\u001b[0m\u001b[0;34m)\u001b[0m\u001b[0;34m]\u001b[0m\u001b[0;34m\u001b[0m\u001b[0;34m\u001b[0m\u001b[0m\n\u001b[0m\u001b[1;32m     42\u001b[0m     )\n\u001b[1;32m     43\u001b[0m     optimal_early_train_accuracy = np.array(\n",
      "\u001b[0;31mTypeError\u001b[0m: 'numpy.int64' object is not iterable"
     ]
    }
   ],
   "source": [
    "plot_loss_from_file_epoch(\"experimental_results_epoch_cifar10/resnet18_0pct_noise_width_32.pkl\")"
   ]
  },
  {
   "cell_type": "code",
   "execution_count": 39,
   "metadata": {
    "colab": {
     "base_uri": "https://localhost:8080/",
     "height": 275
    },
    "id": "UBOfmFna8zFy",
    "outputId": "56d7b46c-4bbe-47db-f27a-c0c1f6a4e1f5"
   },
   "outputs": [
    {
     "name": "stdout",
     "output_type": "stream",
     "text": [
      "9\n",
      "{'ResNet18_width_32_epochs_4': {'loss': [2.0128986835479736, 1.4983913898468018, 1.3433903455734253, 1.3182114362716675], 'accuracy': [0.3778199851512909, 0.475600004196167, 0.5336999893188477, 0.5486599802970886], 'val_loss': [2.088545799255371, 5.3470611572265625, 3.443983316421509, 18.84885597229004], 'val_accuracy': [0.27810001373291016, 0.11869999766349792, 0.313400000333786, 0.10159999877214432]}, 'ResNet18_width_32_epochs_8': {'loss': [1.272216558456421, 1.0914429426193237, 0.9486660957336426, 1.1112829446792603, 0.8985035419464111, 0.8151787519454956, 1.006602168083191, 1.0586433410644531], 'accuracy': [0.5729799866676331, 0.6228200197219849, 0.671720027923584, 0.652679979801178, 0.6984999775886536, 0.725600004196167, 0.6779400110244751, 0.6914799809455872], 'val_loss': [11.191983222961426, 1.8769242763519287, 4.446936130523682, 3.8409645557403564, 7.115650653839111, 1.9010838270187378, 1.7468044757843018, 1.6878949403762817], 'val_accuracy': [0.19009999930858612, 0.47760000824928284, 0.31299999356269836, 0.18240000307559967, 0.23579999804496765, 0.5108000040054321, 0.5963000059127808, 0.5575000047683716]}, 'ResNet18_width_32_epochs_12': {'loss': [0.657435953617096, 0.6964038014411926, 0.4738698899745941, 0.7147257328033447, 0.4583011865615845, 0.38708940148353577, 0.3874456286430359, 0.3470333218574524, 0.6804431080818176, 0.37740108370780945, 0.30261126160621643, 0.2558661997318268], 'accuracy': [0.780019998550415, 0.7660599946975708, 0.8352000117301941, 0.7936599850654602, 0.8479400277137756, 0.866919994354248, 0.8682199716567993, 0.8891400098800659, 0.8254600167274475, 0.8772799968719482, 0.8962600231170654, 0.9168400168418884], 'val_loss': [7.399667263031006, 1.9977439641952515, 1.4650156497955322, 2.4464564323425293, 1.6907261610031128, 4.766284942626953, 3.649977684020996, 6.9050421714782715, 6.581962585449219, 1.4912210702896118, 5.0904035568237305, 2.5149028301239014], 'val_accuracy': [0.2522999942302704, 0.5651000142097473, 0.6492000222206116, 0.5684999823570251, 0.6107000112533569, 0.4075999855995178, 0.43230000138282776, 0.21170000731945038, 0.24449999630451202, 0.6949999928474426, 0.4986000061035156, 0.593999981880188]}, 'ResNet18_width_32_epochs_16': {'loss': [0.2755235731601715, 0.25169119238853455, 0.40875643491744995, 0.22410111129283905, 0.24351178109645844, 0.27583563327789307, 0.08045262843370438, 0.1956178843975067, 0.22200553119182587, 0.11781799048185349, 0.4163627028465271, 0.06472431123256683, 0.09420641511678696, 0.04973192512989044, 0.20129117369651794, 0.601832926273346], 'accuracy': [0.9083399772644043, 0.9148600101470947, 0.870959997177124, 0.9256799817085266, 0.9211000204086304, 0.9141200184822083, 0.9751999974250793, 0.934499979019165, 0.9267399907112122, 0.9620800018310547, 0.8917199969291687, 0.983519971370697, 0.9696400165557861, 0.983299970626831, 0.9441199898719788, 0.8773400187492371], 'val_loss': [11.835050582885742, 8.09809398651123, 3.8138325214385986, 5.111498832702637, 3.202366828918457, 4.350663661956787, 5.136745929718018, 2.8587472438812256, 4.77092981338501, 4.724295139312744, 3.295961618423462, 2.276980400085449, 4.162194728851318, 3.044759511947632, 6.429345607757568, 1.5599842071533203], 'val_accuracy': [0.2881999909877777, 0.3822000026702881, 0.4787999987602234, 0.439300000667572, 0.5870000123977661, 0.5529999732971191, 0.4722999930381775, 0.6197999715805054, 0.5351999998092651, 0.4462999999523163, 0.47189998626708984, 0.6783999800682068, 0.5619999766349792, 0.6396999955177307, 0.4507000148296356, 0.7128000259399414]}, 'ResNet18_width_32_epochs_20': {'loss': [0.019938012585043907, 0.007703300099819899, 0.0023088501766324043, 0.001373853301629424, 0.000890011724550277, 0.0006421571597456932, 0.0004733557580038905, 0.00035248015774413943, 0.00027206592494621873, 0.00021027636830694973, 0.00016441530897282064, 0.0001285597390960902, 0.00010083478264277801, 7.945287507027388e-05, 6.37239936622791e-05, 5.0686972826952115e-05, 3.986995943705551e-05, 3.257695061620325e-05, 2.5937675673048943e-05, 2.0611725631169975e-05], 'accuracy': [0.9965999722480774, 0.999239981174469, 0.9999600052833557, 1.0, 1.0, 1.0, 1.0, 1.0, 1.0, 1.0, 1.0, 1.0, 1.0, 1.0, 1.0, 1.0, 1.0, 1.0, 1.0, 1.0], 'val_loss': [1.4239561557769775, 1.530121088027954, 1.5700947046279907, 1.6068031787872314, 1.644449234008789, 1.6844033002853394, 1.7023169994354248, 1.6973702907562256, 1.747828483581543, 1.739856481552124, 1.8071720600128174, 1.8404005765914917, 1.8384617567062378, 1.8805091381072998, 1.865801215171814, 1.9458919763565063, 1.9155741930007935, 1.9630095958709717, 2.0078983306884766, 1.9875867366790771], 'val_accuracy': [0.7354000210762024, 0.7315000295639038, 0.734000027179718, 0.736299991607666, 0.7361000180244446, 0.7354999780654907, 0.7297000288963318, 0.7365999817848206, 0.734499990940094, 0.7347000241279602, 0.734000027179718, 0.7347000241279602, 0.7330999970436096, 0.7328000068664551, 0.7314000129699707, 0.7286999821662903, 0.7337999939918518, 0.7353000044822693, 0.7317000031471252, 0.7340999841690063]}, 'ResNet18_width_32_epochs_24': {'loss': [1.648737998038996e-05, 1.3549579307436943e-05, 1.0794633453770075e-05, 8.526704732503276e-06, 7.058001301629702e-06, 5.590162345470162e-06, 4.510656708589522e-06, 3.7630147744494025e-06, 2.9775571874779416e-06, 2.438292995066149e-06, 1.9887188500433695e-06, 1.5875342569415807e-06, 1.2855052773375064e-06, 1.045194608195743e-06, 8.544604384042032e-07, 7.015391361164802e-07, 5.649541208185838e-07, 4.6182859136933985e-07, 3.738736324976344e-07, 3.093170732881845e-07, 2.532267444621539e-07, 2.0442007553356234e-07, 1.6907451083625347e-07, 1.4179705942751752e-07], 'accuracy': [1.0, 1.0, 1.0, 1.0, 1.0, 1.0, 1.0, 1.0, 1.0, 1.0, 1.0, 1.0, 1.0, 1.0, 1.0, 1.0, 1.0, 1.0, 1.0, 1.0, 1.0, 1.0, 1.0, 1.0], 'val_loss': [2.048382520675659, 2.0605106353759766, 2.0688774585723877, 2.1317856311798096, 2.19079852104187, 2.1827709674835205, 2.1922812461853027, 2.240588426589966, 2.24869704246521, 2.2876250743865967, 2.334988594055176, 2.3250911235809326, 2.3303451538085938, 2.343627452850342, 2.442573070526123, 2.3730359077453613, 2.446347713470459, 2.4177448749542236, 2.454009532928467, 2.458678722381592, 2.549147367477417, 2.532007932662964, 2.556769847869873, 2.625262498855591], 'val_accuracy': [0.733299970626831, 0.7337999939918518, 0.7324000000953674, 0.7347999811172485, 0.7321000099182129, 0.7283999919891357, 0.7328000068664551, 0.734000027179718, 0.7304999828338623, 0.7340999841690063, 0.7311000227928162, 0.7364000082015991, 0.7267000079154968, 0.734499990940094, 0.7343999743461609, 0.7312999963760376, 0.7293999791145325, 0.7287999987602234, 0.7332000136375427, 0.7361999750137329, 0.732200026512146, 0.7343999743461609, 0.7285000085830688, 0.7329999804496765]}, 'ResNet18_width_32_epochs_28': {'loss': [1.1785267872710392e-07, 9.463547456789456e-08, 8.086918512617558e-08, 6.657599982418105e-08, 5.4204459587481324e-08, 4.6150677945888674e-08, 3.8397310220261716e-08, 3.175020069079437e-08, 2.6948448805796943e-08, 2.1991727550130236e-08, 1.8222330311346013e-08, 1.5778541140321067e-08, 1.2454985487408976e-08, 1.0867117872237486e-08, 8.761881886698575e-09, 7.1477885832393895e-09, 6.017684572867665e-09, 5.259513269351146e-09, 3.664493375410416e-09, 3.4141538485243927e-09, 3.125667280556854e-09, 2.312660063452654e-09, 2.300739154748044e-09, 2.1839139385804174e-09, 2.310275970529574e-09, 1.6641615863122183e-09, 1.7309187416714167e-09, 2.0265578104528004e-09], 'accuracy': [1.0, 1.0, 1.0, 1.0, 1.0, 1.0, 1.0, 1.0, 1.0, 1.0, 1.0, 1.0, 1.0, 1.0, 1.0, 1.0, 1.0, 1.0, 1.0, 1.0, 1.0, 1.0, 1.0, 1.0, 1.0, 1.0, 1.0, 1.0], 'val_loss': [2.5869719982147217, 2.6271262168884277, 2.6131036281585693, 2.672163724899292, 2.6616954803466797, 2.6903092861175537, 2.7115988731384277, 2.701371908187866, 2.746556282043457, 2.775315999984741, 2.753181219100952, 2.7802536487579346, 2.8235085010528564, 2.8254752159118652, 2.842831611633301, 2.784987211227417, 2.8194940090179443, 2.8373920917510986, 2.8533315658569336, 2.8546640872955322, 2.796233892440796, 2.9333786964416504, 2.8587028980255127, 2.8033084869384766, 2.870490789413452, 2.887415885925293, 2.852424144744873, 2.821751832962036], 'val_accuracy': [0.7347000241279602, 0.7351999878883362, 0.7346000075340271, 0.734000027179718, 0.7354999780654907, 0.7305999994277954, 0.734000027179718, 0.7324000000953674, 0.7335000038146973, 0.7335000038146973, 0.7293000221252441, 0.7336000204086304, 0.7297000288963318, 0.7294999957084656, 0.7275999784469604, 0.7339000105857849, 0.7312999963760376, 0.7315000295639038, 0.7321000099182129, 0.7317000031471252, 0.7332000136375427, 0.7287999987602234, 0.7318000197410583, 0.7293000221252441, 0.7310000061988831, 0.7335000038146973, 0.7328000068664551, 0.7346000075340271]}, 'ResNet18_width_32_epochs_32': {'loss': [1.5497205740899744e-09, 1.5592573898715045e-09, 1.3875960380715924e-09, 1.161098439617092e-09, 1.280307637685496e-09, 1.19209286886246e-09, 1.1420249190763343e-09, 1.1777877562124672e-09, 1.1897086649170774e-09, 1.0943411732355912e-09, 1.0037422004671726e-09, 1.4376638768354155e-09, 1.285076045576261e-09, 1.0657309479356059e-09, 6.055831391904576e-10, 7.653235822857596e-10, 7.557868220153807e-10, 8.726119271607047e-10, 6.055831391904576e-10, 9.179114690560652e-10, 5.102157030201226e-10, 1.2302396878993704e-09, 5.316733719951117e-10, 5.817413217812373e-10, 5.626678012404795e-10, 8.320807931561092e-10, 5.698203575654759e-10, 7.152556880107852e-10, 5.197524632905015e-10, 6.675719421700421e-10, 7.271765967153954e-10, 7.510184696357669e-10], 'accuracy': [1.0, 1.0, 1.0, 1.0, 1.0, 1.0, 1.0, 1.0, 1.0, 1.0, 1.0, 1.0, 1.0, 1.0, 1.0, 1.0, 1.0, 1.0, 1.0, 1.0, 1.0, 1.0, 1.0, 1.0, 1.0, 1.0, 1.0, 1.0, 1.0, 1.0, 1.0, 1.0], 'val_loss': [2.8657944202423096, 2.7792670726776123, 2.8182246685028076, 2.815455436706543, 2.8099865913391113, 2.7941501140594482, 2.806286096572876, 2.771955966949463, 2.8156676292419434, 2.8308284282684326, 2.809159994125366, 2.7920498847961426, 2.8393235206604004, 2.8505539894104004, 2.787245035171509, 2.8251795768737793, 2.852351665496826, 2.7965338230133057, 2.8948426246643066, 2.8169944286346436, 2.7412161827087402, 2.7603342533111572, 2.8096978664398193, 2.782153367996216, 2.750890016555786, 2.792264938354492, 2.7794313430786133, 2.8095500469207764, 2.7758893966674805, 2.713993787765503, 2.7357423305511475, 2.750808000564575], 'val_accuracy': [0.7264000177383423, 0.7336000204086304, 0.7296000123023987, 0.732699990272522, 0.7329000234603882, 0.7310000061988831, 0.7333999872207642, 0.7325999736785889, 0.7322999835014343, 0.7305999994277954, 0.7361000180244446, 0.7321000099182129, 0.7300000190734863, 0.7333999872207642, 0.7325999736785889, 0.7289000153541565, 0.7311999797821045, 0.729200005531311, 0.7347999811172485, 0.7336999773979187, 0.727400004863739, 0.7303000092506409, 0.7332000136375427, 0.733299970626831, 0.7342000007629395, 0.7315999865531921, 0.7325000166893005, 0.7347000241279602, 0.7289999723434448, 0.7336000204086304, 0.73580002784729, 0.7347999811172485]}, 'ResNet18_width_32_epochs_36': {'loss': [5.269050196154978e-10, 5.9604643443123e-10, 6.508826255746669e-10, 7.796286949357523e-10, 8.130072726153514e-10, 5.102157030201226e-10, 5.817413217812373e-10, 4.1723247079517023e-10, 6.413459208154393e-10, 6.246566042200641e-10, 5.054473506405088e-10, 6.341933644904429e-10, 7.247923927700128e-10, 6.508826255746669e-10, 5.269050196154978e-10, 4.0054318195537064e-10, 3.409385274100174e-10, 6.222724002746816e-10, 3.5285946387020317e-10, 4.935264419358987e-10, 4.839896816655198e-10, 4.744529213951409e-10, 8.654593708357083e-10, 3.1471247829983895e-10, 4.4107434371554177e-10, 9.059905048403039e-10, 4.4107434371554177e-10, 5.555152449154832e-10, 3.5047528768039626e-10, 3.910064216849918e-10, 4.768371253405235e-10, 3.981589780099881e-10, 3.5047528768039626e-10, 6.008147868108438e-10, 7.295608006607779e-10, 5.841254702154686e-10], 'accuracy': [1.0, 1.0, 1.0, 1.0, 1.0, 1.0, 1.0, 1.0, 1.0, 1.0, 1.0, 1.0, 1.0, 1.0, 1.0, 1.0, 1.0, 1.0, 1.0, 1.0, 1.0, 1.0, 1.0, 1.0, 1.0, 1.0, 1.0, 1.0, 1.0, 1.0, 1.0, 1.0, 1.0, 1.0, 1.0, 1.0], 'val_loss': [2.7652454376220703, 2.7465639114379883, 2.7443325519561768, 2.7677323818206787, 2.7486822605133057, 2.7337100505828857, 2.7442009449005127, 2.732059955596924, 2.7181622982025146, 2.749051094055176, 2.705496311187744, 2.8521673679351807, 2.7100372314453125, 2.7432591915130615, 2.7360737323760986, 2.732557773590088, 2.7567594051361084, 2.7450995445251465, 2.7296979427337646, 2.7601280212402344, 2.754181146621704, 2.6993587017059326, 2.6991469860076904, 2.7613954544067383, 2.6633636951446533, 2.809230327606201, 2.6919679641723633, 2.693103313446045, 2.754051923751831, 2.6946325302124023, 2.710940361022949, 2.6836183071136475, 2.731250286102295, 2.7915866374969482, 2.7130990028381348, 2.7628188133239746], 'val_accuracy': [0.7311999797821045, 0.7311999797821045, 0.7333999872207642, 0.7317000031471252, 0.7310000061988831, 0.7315000295639038, 0.7329000234603882, 0.7317000031471252, 0.7307999730110168, 0.734000027179718, 0.7307999730110168, 0.7289999723434448, 0.7325999736785889, 0.7335000038146973, 0.7339000105857849, 0.7328000068664551, 0.73089998960495, 0.7301999926567078, 0.7304999828338623, 0.7297000288963318, 0.7297999858856201, 0.7318999767303467, 0.7307000160217285, 0.7289000153541565, 0.7346000075340271, 0.732200026512146, 0.730400025844574, 0.7310000061988831, 0.7287999987602234, 0.7286999821662903, 0.7293000221252441, 0.73089998960495, 0.7281000018119812, 0.7297000288963318, 0.7307000160217285, 0.7304999828338623]}}\n"
     ]
    },
    {
     "ename": "KeyError",
     "evalue": "ignored",
     "output_type": "error",
     "traceback": [
      "\u001b[0;31m---------------------------------------------------------------------------\u001b[0m",
      "\u001b[0;31mKeyError\u001b[0m                                  Traceback (most recent call last)",
      "\u001b[0;32m<ipython-input-39-8ff16073d572>\u001b[0m in \u001b[0;36m<module>\u001b[0;34m()\u001b[0m\n\u001b[1;32m      3\u001b[0m \u001b[0mprint\u001b[0m\u001b[0;34m(\u001b[0m\u001b[0mlen\u001b[0m\u001b[0;34m(\u001b[0m\u001b[0mmetrics_loaded\u001b[0m\u001b[0;34m.\u001b[0m\u001b[0mitems\u001b[0m\u001b[0;34m(\u001b[0m\u001b[0;34m)\u001b[0m\u001b[0;34m)\u001b[0m\u001b[0;34m)\u001b[0m\u001b[0;34m\u001b[0m\u001b[0;34m\u001b[0m\u001b[0m\n\u001b[1;32m      4\u001b[0m \u001b[0mprint\u001b[0m\u001b[0;34m(\u001b[0m\u001b[0mmetrics_loaded\u001b[0m\u001b[0;34m)\u001b[0m\u001b[0;34m\u001b[0m\u001b[0;34m\u001b[0m\u001b[0m\n\u001b[0;32m----> 5\u001b[0;31m \u001b[0mprint\u001b[0m\u001b[0;34m(\u001b[0m\u001b[0mmetrics_loaded\u001b[0m\u001b[0;34m[\u001b[0m\u001b[0;34m'ResNet18_width_32'\u001b[0m\u001b[0;34m]\u001b[0m\u001b[0;34m.\u001b[0m\u001b[0mitems\u001b[0m\u001b[0;34m(\u001b[0m\u001b[0;34m)\u001b[0m\u001b[0;34m)\u001b[0m\u001b[0;34m\u001b[0m\u001b[0;34m\u001b[0m\u001b[0m\n\u001b[0m\u001b[1;32m      6\u001b[0m \u001b[0mprint\u001b[0m\u001b[0;34m(\u001b[0m\u001b[0mlen\u001b[0m\u001b[0;34m(\u001b[0m\u001b[0mmetrics_loaded\u001b[0m\u001b[0;34m[\u001b[0m\u001b[0;34m'ResNet18_width_32'\u001b[0m\u001b[0;34m]\u001b[0m\u001b[0;34m.\u001b[0m\u001b[0mitems\u001b[0m\u001b[0;34m(\u001b[0m\u001b[0;34m)\u001b[0m\u001b[0;34m)\u001b[0m\u001b[0;34m)\u001b[0m\u001b[0;34m\u001b[0m\u001b[0;34m\u001b[0m\u001b[0m\n",
      "\u001b[0;31mKeyError\u001b[0m: 'ResNet18_width_32'"
     ]
    }
   ],
   "source": [
    "with open(\"experimental_results_epoch_cifar10/resnet18_0pct_noise_width_32.pkl\", 'rb') as f:\n",
    "  metrics_loaded = pkl.load(f)\n",
    "print(len(metrics_loaded.items()))\n",
    "print(metrics_loaded)\n",
    "print(metrics_loaded['ResNet18_width_32'].items())\n",
    "print(len(metrics_loaded['ResNet18_width_32'].items()))"
   ]
  },
  {
   "cell_type": "code",
   "execution_count": 46,
   "metadata": {
    "colab": {
     "base_uri": "https://localhost:8080/"
    },
    "id": "a6bw89W89GOo",
    "outputId": "178f5493-9855-4d85-e328-9bf8e403d669"
   },
   "outputs": [
    {
     "name": "stderr",
     "output_type": "stream",
     "text": [
      "IOPub data rate exceeded.\n",
      "The notebook server will temporarily stop sending output\n",
      "to the client in order to avoid crashing it.\n",
      "To change this limit, set the config variable\n",
      "`--NotebookApp.iopub_data_rate_limit`.\n",
      "\n",
      "Current values:\n",
      "NotebookApp.iopub_data_rate_limit=1000000.0 (bytes/sec)\n",
      "NotebookApp.rate_limit_window=3.0 (secs)\n",
      "\n"
     ]
    }
   ],
   "source": [
    "\n",
    "\n",
    "with open(\"experimental_results_cifar10/resnet18_10pct_noise_alpha_1_Pres_Bathch_Norm_Results.pkl\", 'rb') as f:\n",
    "  metrics_loaded = pkl.load(f)\n",
    "print(len(metrics_loaded.items()))\n",
    "print( metrics_loaded.items() )\n",
    "print(metrics_loaded)"
   ]
  },
  {
   "cell_type": "code",
   "execution_count": 47,
   "metadata": {
    "colab": {
     "base_uri": "https://localhost:8080/"
    },
    "id": "coax-1R7-VyW",
    "outputId": "49db4c1f-61fa-43f6-8bac-55f2efdd9147"
   },
   "outputs": [
    {
     "name": "stderr",
     "output_type": "stream",
     "text": [
      "IOPub data rate exceeded.\n",
      "The notebook server will temporarily stop sending output\n",
      "to the client in order to avoid crashing it.\n",
      "To change this limit, set the config variable\n",
      "`--NotebookApp.iopub_data_rate_limit`.\n",
      "\n",
      "Current values:\n",
      "NotebookApp.iopub_data_rate_limit=1000000.0 (bytes/sec)\n",
      "NotebookApp.rate_limit_window=3.0 (secs)\n",
      "\n"
     ]
    }
   ],
   "source": [
    "with open(\"experimental_results_cifar10/resnet18_10pct_noise_alpha_1_Pres_Bathch_Norm_Results.pkl\", 'rb') as f:\n",
    "  metrics_loaded = pkl.load(f)\n",
    "print(len(metrics_loaded.items()))\n",
    "print( metrics_loaded.items() )\n",
    "print(metrics_loaded)"
   ]
  },
  {
   "cell_type": "code",
   "execution_count": 3,
   "metadata": {},
   "outputs": [
    {
     "name": "stdout",
     "output_type": "stream",
     "text": [
      "/home/ecbm4040/DeepDoubleDescent_Tensorflow/need_to_push\n",
      "Archive:  fig16_epoch_4-36.zip\n",
      "   creating: trained_model_weights_epoch_cifar10/\n",
      "   creating: trained_model_weights_epoch_cifar10/resnet18_0pct_noise_width_32/\n",
      "  inflating: trained_model_weights_epoch_cifar10/resnet18_0pct_noise_width_32/ResNet18_width_32.data-00000-of-00001  \n",
      "  inflating: trained_model_weights_epoch_cifar10/resnet18_0pct_noise_width_32/ResNet18_width_32_epochs_36.index  \n",
      "  inflating: trained_model_weights_epoch_cifar10/resnet18_0pct_noise_width_32/ResNet18_width_32_epochs_24.data-00000-of-00001  \n",
      "  inflating: trained_model_weights_epoch_cifar10/resnet18_0pct_noise_width_32/ResNet18_width_32_epochs_32.data-00000-of-00001  \n",
      "  inflating: trained_model_weights_epoch_cifar10/resnet18_0pct_noise_width_32/ResNet18_width_32_epochs_12.data-00000-of-00001  \n",
      "  inflating: trained_model_weights_epoch_cifar10/resnet18_0pct_noise_width_32/ResNet18_width_32.index  \n",
      "  inflating: trained_model_weights_epoch_cifar10/resnet18_0pct_noise_width_32/ResNet18_width_32_epochs_20.index  \n",
      "  inflating: trained_model_weights_epoch_cifar10/resnet18_0pct_noise_width_32/ResNet18_width_32_epochs_28.index  \n",
      "  inflating: trained_model_weights_epoch_cifar10/resnet18_0pct_noise_width_32/ResNet18_width_32_epochs_12.index  \n",
      "  inflating: trained_model_weights_epoch_cifar10/resnet18_0pct_noise_width_32/ResNet18_width_32_epochs_16.data-00000-of-00001  \n",
      "  inflating: trained_model_weights_epoch_cifar10/resnet18_0pct_noise_width_32/checkpoint  \n",
      "  inflating: trained_model_weights_epoch_cifar10/resnet18_0pct_noise_width_32/ResNet18_width_32_epochs_28.data-00000-of-00001  \n",
      "  inflating: trained_model_weights_epoch_cifar10/resnet18_0pct_noise_width_32/ResNet18_width_32_epochs_32.index  \n",
      "  inflating: trained_model_weights_epoch_cifar10/resnet18_0pct_noise_width_32/ResNet18_width_32_epochs_4.index  \n",
      "  inflating: trained_model_weights_epoch_cifar10/resnet18_0pct_noise_width_32/ResNet18_width_32_epochs_16.index  \n",
      "  inflating: trained_model_weights_epoch_cifar10/resnet18_0pct_noise_width_32/ResNet18_width_32_epochs_36.data-00000-of-00001  \n",
      "  inflating: trained_model_weights_epoch_cifar10/resnet18_0pct_noise_width_32/ResNet18_width_32_epochs_20.data-00000-of-00001  \n",
      "  inflating: trained_model_weights_epoch_cifar10/resnet18_0pct_noise_width_32/ResNet18_width_32_epochs_24.index  \n",
      "  inflating: trained_model_weights_epoch_cifar10/resnet18_0pct_noise_width_32/ResNet18_width_32_epochs_4.data-00000-of-00001  \n",
      "  inflating: trained_model_weights_epoch_cifar10/resnet18_0pct_noise_width_32/ResNet18_width_32_epochs_8.index  \n",
      "  inflating: trained_model_weights_epoch_cifar10/resnet18_0pct_noise_width_32/ResNet18_width_32_epochs_8.data-00000-of-00001  \n"
     ]
    }
   ],
   "source": [
    "# To download training weights of the 32 width resnet18 for epochs 4-36\n",
    "\n",
    "!pwd\n",
    "!unzip fig16_epoch_4-36.zip"
   ]
  },
  {
   "cell_type": "code",
   "execution_count": 44,
   "metadata": {
    "colab": {
     "base_uri": "https://localhost:8080/",
     "height": 597
    },
    "id": "p1wfOkYG9yOu",
    "outputId": "1209d910-ab39-4929-e742-3c1a682fc186"
   },
   "outputs": [
    {
     "data": {
      "image/png": "[encoded data removed]",
      "text/plain": [
       "<Figure size 1296x864 with 4 Axes>"
      ]
     },
     "metadata": {
      "needs_background": "light",
      "tags": []
     },
     "output_type": "display_data"
    }
   ],
   "source": [
    "plot_loss_from_file(\"experimental_results_cifar10/resnet18_10pct_noise_alpha_1_Pres_Bathch_Norm_Results.pkl\")"
   ]
  }
 ],
 "metadata": {
  "accelerator": "GPU",
  "colab": {
   "collapsed_sections": [],
   "name": "Fig7_16-18_epochwise_training.ipynb",
   "provenance": []
  },
  "kernelspec": {
   "display_name": "Python 3",
   "language": "python",
   "name": "python3"
  },
  "language_info": {
   "codemirror_mode": {
    "name": "ipython",
    "version": 3
   },
   "file_extension": ".py",
   "mimetype": "text/x-python",
   "name": "python",
   "nbconvert_exporter": "python",
   "pygments_lexer": "ipython3",
   "version": "3.7.7"
  }
 },
 "nbformat": 4,
 "nbformat_minor": 1
}
